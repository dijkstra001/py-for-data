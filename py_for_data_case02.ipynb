{
  "nbformat": 4,
  "nbformat_minor": 0,
  "metadata": {
    "colab": {
      "name": "py-for-data-case02.ipynb",
      "provenance": [],
      "collapsed_sections": [],
      "authorship_tag": "ABX9TyPoBxyBrOcTU/iVLympHk+f",
      "include_colab_link": true
    },
    "kernelspec": {
      "name": "python3",
      "display_name": "Python 3"
    },
    "language_info": {
      "name": "python"
    }
  },
  "cells": [
    {
      "cell_type": "markdown",
      "metadata": {
        "id": "view-in-github",
        "colab_type": "text"
      },
      "source": [
        "<a href=\"https://colab.research.google.com/github/dijkstra001/py-for-data/blob/main/py_for_data_case02.ipynb\" target=\"_parent\"><img src=\"https://colab.research.google.com/assets/colab-badge.svg\" alt=\"Open In Colab\"/></a>"
      ]
    },
    {
      "cell_type": "markdown",
      "metadata": {
        "id": "yyU01YCozBKq"
      },
      "source": [
        "# **Utilização de Python para Análise de Dados: Caso prático - 02**\n",
        "\n",
        "---\n",
        "\n",
        "O conteúdo apresentado a seguir tem como objetivo criar cenários práticos e de uso geral onde a linguagem Python pode nos auxiliar de forma rápida e simples na análise de dados.\n",
        "\n",
        "Esse material tem como objetivo ensinar algumas práticas para facilitar a análise de dados, não focando em técnicas complexas e de uso exclusivo para determinada situação.\n",
        "\n",
        "O conteúdo tem como base o Livro **Python para Análise de Dados** (Wes McKinney, NOVATEC)."
      ]
    },
    {
      "cell_type": "markdown",
      "metadata": {
        "id": "dnEbegQIzS7a"
      },
      "source": [
        "### **Realizando operações com listas de dados:**\n",
        "\n",
        "Um tipo de dado muito utilizado em Python (em relação a análise de dados) são listas. Nelas, temos uma grande quantidade de informações que podem ser de tipos variados. Quando você tem um dataset (um conjunto de dados), cada coluna pode ser representada por uma lista. Vamos abordar tratamentos em dataset em casos posteriores, envolvendo outras complexidades durante esse processo.\n",
        "\n",
        "Nesse caso prático, vamos utilizar as listas abaixo como exemplo. Com base nelas, vamos realizar algumas práticas de exploração de dados, assim como algumas operações de acordo com o tipo de dado.\n",
        "\n",
        "lista_1 = [9.5, 10.0, 8.5, 8.0, 7.5, 4.5, 6.8, 10.0]\n",
        "\n",
        "lista_2 = [8.5, 9.0, 5.5, 8.0, 4.5, 4.5, 8.8, 10.0]\n",
        "\n",
        "lista_3 = ['Maria', 'Jose', 'Carlos', 'Marcia', 'Joana', 'Leticia', 'Carolina', 'Joana']\n",
        "\n",
        "lista_4 = ['Maria', 'Joao', 'Carlos', 'Cristiano', 'Joana', 'Bruna', 'Carolina', 'Fernando']"
      ]
    },
    {
      "cell_type": "markdown",
      "metadata": {
        "id": "KRXTuasRfPTV"
      },
      "source": [
        "**1. Realizar o agrupamento das listas:**\n",
        "\n",
        "As listas 1 e 2 são compostas por valores numéricos (float) e as listas 3 e 4 por valores do tipo string (str). Podemos realizar o agrupamento dessas listas para apenas 2 grandes listas."
      ]
    },
    {
      "cell_type": "code",
      "metadata": {
        "id": "uFey6TJJgP92"
      },
      "source": [
        "lista_1 = [9.5, 10.0, 8.5, 8.0, 7.5, 4.5, 6.8, 10.0]\n",
        "\n",
        "lista_2 = [8.5, 9.0, 5.5, 8.0, 4.5, 4.5, 8.8, 10.0]\n",
        "\n",
        "lista_3 = ['Maria', 'Jose', 'Carlos', 'Marcia', 'Joana', 'Leticia', 'Carolina', 'Joana']\n",
        "\n",
        "lista_4 = ['Maria', 'Joao', 'Carlos', 'Cristiano', 'Joana', 'Bruna', 'Carolina', 'Fernando']"
      ],
      "execution_count": 1,
      "outputs": []
    },
    {
      "cell_type": "code",
      "metadata": {
        "colab": {
          "base_uri": "https://localhost:8080/"
        },
        "id": "gt6uUK3zzAjs",
        "outputId": "619f2ac1-b95e-4cbe-c84d-b6db95bd307e"
      },
      "source": [
        "# verificando o tipo de dado:\n",
        "tipo_de_dado = []\n",
        "\n",
        "for i in lista_1:\n",
        "  tipo_de_dado.append(type(i))\n",
        "\n",
        "print(f'Tipo de dado na lista 1: {list(set(tipo_de_dado))}')\n",
        "tipo_de_dado.clear()\n",
        "\n",
        "for i in lista_2:\n",
        "  tipo_de_dado.append(type(i))\n",
        "\n",
        "print(f'Tipo de dado na lista 2: {list(set(tipo_de_dado))}')\n",
        "tipo_de_dado.clear()\n",
        "\n",
        "for i in lista_3:\n",
        "  tipo_de_dado.append(type(i))\n",
        "\n",
        "print(f'Tipo de dado na lista 3: {list(set(tipo_de_dado))}')\n",
        "tipo_de_dado.clear()\n",
        "\n",
        "for i in lista_4:\n",
        "  tipo_de_dado.append(type(i))\n",
        "\n",
        "print(f'Tipo de dado na lista 4: {list(set(tipo_de_dado))}')\n",
        "tipo_de_dado.clear()\n"
      ],
      "execution_count": 2,
      "outputs": [
        {
          "output_type": "stream",
          "text": [
            "Tipo de dado na lista 1: [<class 'float'>]\n",
            "Tipo de dado na lista 2: [<class 'float'>]\n",
            "Tipo de dado na lista 3: [<class 'str'>]\n",
            "Tipo de dado na lista 4: [<class 'str'>]\n"
          ],
          "name": "stdout"
        }
      ]
    },
    {
      "cell_type": "code",
      "metadata": {
        "colab": {
          "base_uri": "https://localhost:8080/"
        },
        "id": "9waPpVQZhwa4",
        "outputId": "b22bb574-efb4-4902-f1d8-6e56f87fe29a"
      },
      "source": [
        "# realizando o agrupamento:\n",
        "lista_numeros = lista_1 + lista_2\n",
        "lista_strings = lista_3 + lista_4\n",
        "\n",
        "print(f'Lista de números: {lista_numeros}')\n",
        "print(f'Lista de strings: {lista_strings}')\n"
      ],
      "execution_count": 3,
      "outputs": [
        {
          "output_type": "stream",
          "text": [
            "Lista de números: [9.5, 10.0, 8.5, 8.0, 7.5, 4.5, 6.8, 10.0, 8.5, 9.0, 5.5, 8.0, 4.5, 4.5, 8.8, 10.0]\n",
            "Lista de strings: ['Maria', 'Jose', 'Carlos', 'Marcia', 'Joana', 'Leticia', 'Carolina', 'Joana', 'Maria', 'Joao', 'Carlos', 'Cristiano', 'Joana', 'Bruna', 'Carolina', 'Fernando']\n"
          ],
          "name": "stdout"
        }
      ]
    },
    {
      "cell_type": "markdown",
      "metadata": {
        "id": "Dn657m9Oiolr"
      },
      "source": [
        "**2. Para a lista de variáveis numéricas, encontrar os valores min., máx., desvio-padrão, média, quantidade e soma total dos elementos da lista.**"
      ]
    },
    {
      "cell_type": "code",
      "metadata": {
        "colab": {
          "base_uri": "https://localhost:8080/"
        },
        "id": "Io33_XYti3me",
        "outputId": "a96c4008-b4b0-480d-a5bb-e75a0dd3c39c"
      },
      "source": [
        "from statistics import mean\n",
        "from statistics import stdev\n",
        "\n",
        "minimo = min(lista_numeros)\n",
        "maximo = max(lista_numeros)\n",
        "desvio = round(stdev(lista_numeros), 2)\n",
        "media = round(mean(lista_numeros), 2)\n",
        "quantidade = len(lista_numeros)\n",
        "total = sum(lista_numeros)\n",
        "print(f'Mínimo: {minimo}\\nMáximo: {maximo}\\nDesvio-padrão: {desvio}\\nMédia: {media}\\nQuantidade de elementos: {quantidade}\\nTotal: {total}')"
      ],
      "execution_count": 4,
      "outputs": [
        {
          "output_type": "stream",
          "text": [
            "Mínimo: 4.5\n",
            "Máximo: 10.0\n",
            "Desvio-padrão: 2.0\n",
            "Média: 7.72\n",
            "Quantidade de elementos: 16\n",
            "Total: 123.6\n"
          ],
          "name": "stdout"
        }
      ]
    },
    {
      "cell_type": "markdown",
      "metadata": {
        "id": "d746yp1ZnCU0"
      },
      "source": [
        "**3. Para a lista de variáveis do tipo string, encontrar a contagem total de elementos, variável mais frequente, iniciais das variáveis e maior variável da lista.**"
      ]
    },
    {
      "cell_type": "code",
      "metadata": {
        "id": "-aqXYvWJnZzv",
        "colab": {
          "base_uri": "https://localhost:8080/"
        },
        "outputId": "a5406283-a60f-4e20-c5fc-a58bf2608d56"
      },
      "source": [
        "# total de elementos:\n",
        "total_elementos = len(lista_strings)\n",
        "print(f'Total de elementos: {total_elementos}')\n",
        "\n",
        "# valor mais frequente:\n",
        "valores_unicos = set(lista_strings)\n",
        "contagem = 0\n",
        "frequente = ''\n",
        "frequencia = 0\n",
        "\n",
        "for elemento in valores_unicos:\n",
        "  contagem = lista_strings.count(elemento)\n",
        "  \n",
        "  if frequencia < contagem:\n",
        "    frequencia = contagem\n",
        "    frequente = elemento\n",
        "\n",
        "print(f'Frequência: {frequencia}, mais frequente: {frequente}')\n",
        "\n",
        "# capturando as iniciais (valores únicos):\n",
        "variaveis = set(lista_strings)\n",
        "iniciais = []\n",
        "\n",
        "for i in variaveis:\n",
        "  iniciais.append(i[0])\n",
        "\n",
        "print(f'Iniciais das variáveis: {sorted(set(iniciais))}')\n",
        "\n",
        "# maior variável no conjunto de dados:\n",
        "variaveis = set(lista_strings)\n",
        "tamanho = 0\n",
        "temp = 0\n",
        "variavel = ''\n",
        "\n",
        "for var in variaveis:\n",
        "  temp = len(var)\n",
        "\n",
        "  if tamanho < temp:\n",
        "    tamanho = temp\n",
        "    variavel = var\n",
        "\n",
        "print(f'Maior variável: {variavel}, tamanho: {tamanho}')"
      ],
      "execution_count": 5,
      "outputs": [
        {
          "output_type": "stream",
          "text": [
            "Total de elementos: 16\n",
            "Frequência: 3, mais frequente: Joana\n",
            "Iniciais das variáveis: ['B', 'C', 'F', 'J', 'L', 'M']\n",
            "Maior variável: Cristiano, tamanho: 9\n"
          ],
          "name": "stdout"
        }
      ]
    },
    {
      "cell_type": "markdown",
      "metadata": {
        "id": "3AyFX6saEx7W"
      },
      "source": [
        "**Pronto!** Finalizado nosso primeiro desafio. Como sugestão, podemos adaptar nosso código para tratamento de exceções, além de tentar converter os números do tipo str (string)."
      ]
    }
  ]
}