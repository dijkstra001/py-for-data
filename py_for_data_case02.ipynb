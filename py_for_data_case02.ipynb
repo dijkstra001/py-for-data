{
  "nbformat": 4,
  "nbformat_minor": 0,
  "metadata": {
    "colab": {
      "name": "py-for-data-case02.ipynb",
      "provenance": [],
      "collapsed_sections": [],
      "authorship_tag": "ABX9TyN/p/16MakpeD/MKN8i6I0j",
      "include_colab_link": true
    },
    "kernelspec": {
      "name": "python3",
      "display_name": "Python 3"
    },
    "language_info": {
      "name": "python"
    }
  },
  "cells": [
    {
      "cell_type": "markdown",
      "metadata": {
        "id": "view-in-github",
        "colab_type": "text"
      },
      "source": [
        "<a href=\"https://colab.research.google.com/github/dijkstra001/py-for-data/blob/main/py_for_data_case02.ipynb\" target=\"_parent\"><img src=\"https://colab.research.google.com/assets/colab-badge.svg\" alt=\"Open In Colab\"/></a>"
      ]
    },
    {
      "cell_type": "markdown",
      "metadata": {
        "id": "yyU01YCozBKq"
      },
      "source": [
        "# **Utilização de Python para Análise de Dados: Caso prático - 02**\n",
        "\n",
        "---\n",
        "\n",
        "O conteúdo apresentado a seguir tem como objetivo criar cenários práticos e de uso geral onde a linguagem Python pode nos auxiliar de forma rápida e simples na análise de dados.\n",
        "\n",
        "Esse material tem como objetivo ensinar algumas práticas para facilitar a análise de dados, não focando em técnicas complexas e de uso exclusivo para determinada situação.\n",
        "\n",
        "O conteúdo tem como base o Livro **Python para Análise de Dados** (Wes McKinney, NOVATEC)."
      ]
    },
    {
      "cell_type": "markdown",
      "metadata": {
        "id": "dnEbegQIzS7a"
      },
      "source": [
        "### **Realizando operações com listas de dados:**\n",
        "\n",
        "Um tipo de dado muito utilizado em Python (em relação a análise de dados) são listas. Nelas, temos uma grande quantidade de informações que podem ser de tipos variados. Quando você tem um dataset (um conjunto de dados), cada coluna pode ser representada por uma lista. Vamos abordar tratamentos em dataset em casos posteriores, envolvendo outras complexidades durante esse processo.\n",
        "\n",
        "Nesse caso prático, vamos utilizar as listas abaixo como exemplo. Com base nelas, vamos realizar algumas práticas de exploração de dados, assim como algumas operações de acordo com o tipo de dado.\n",
        "\n",
        "lista_1 = [9.5, 10.0, 8.5, 8.0, 7.5, 4.5, 6.8, 10.0]\n",
        "\n",
        "lista_2 = [8.5, 9.0, 5.5, 8.0, 4.5, 4.5, 8.8, 10.0]\n",
        "\n",
        "lista_3 = ['Maria', 'Jose', 'Carlos', 'Marcia', 'Joana', 'Leticia', 'Carolina', 'Joana']\n",
        "\n",
        "lista_4 = ['Maria', 'Joao', 'Carlos', 'Cristiano', 'Joana', 'Bruna', 'Carolina', 'Fernando']"
      ]
    },
    {
      "cell_type": "markdown",
      "metadata": {
        "id": "KRXTuasRfPTV"
      },
      "source": [
        "**1. Realizar o agrupamento das listas:**\n",
        "\n",
        "As listas 1 e 2 são compostas por valores numéricos (float) e as listas 3 e 4 por valores do tipo string (str). Podemos realizar o agrupamento dessas listas para apenas 2 grandes listas."
      ]
    },
    {
      "cell_type": "code",
      "metadata": {
        "id": "uFey6TJJgP92"
      },
      "source": [
        "lista_1 = [9.5, 10.0, 8.5, 8.0, 7.5, 4.5, 6.8, 10.0]\n",
        "\n",
        "lista_2 = [8.5, 9.0, 5.5, 8.0, 4.5, 4.5, 8.8, 10.0]\n",
        "\n",
        "lista_3 = ['Maria', 'Jose', 'Carlos', 'Marcia', 'Joana', 'Leticia', 'Carolina', 'Joana']\n",
        "\n",
        "lista_4 = ['Maria', 'Joao', 'Carlos', 'Cristiano', 'Joana', 'Bruna', 'Carolina', 'Fernando']"
      ],
      "execution_count": 1,
      "outputs": []
    },
    {
      "cell_type": "code",
      "metadata": {
        "colab": {
          "base_uri": "https://localhost:8080/"
        },
        "id": "gt6uUK3zzAjs",
        "outputId": "69a43ffd-a512-4394-b464-51d23ecfa6a9"
      },
      "source": [
        "# verificando o tipo de dado:\n",
        "tipo_de_dado = []\n",
        "\n",
        "for i in lista_1:\n",
        "  tipo_de_dado.append(type(i))\n",
        "\n",
        "print(f'Tipo de dado na lista 1: {list(set(tipo_de_dado))}')\n",
        "tipo_de_dado.clear()\n",
        "\n",
        "for i in lista_2:\n",
        "  tipo_de_dado.append(type(i))\n",
        "\n",
        "print(f'Tipo de dado na lista 2: {list(set(tipo_de_dado))}')\n",
        "tipo_de_dado.clear()\n",
        "\n",
        "for i in lista_3:\n",
        "  tipo_de_dado.append(type(i))\n",
        "\n",
        "print(f'Tipo de dado na lista 3: {list(set(tipo_de_dado))}')\n",
        "tipo_de_dado.clear()\n",
        "\n",
        "for i in lista_4:\n",
        "  tipo_de_dado.append(type(i))\n",
        "\n",
        "print(f'Tipo de dado na lista 4: {list(set(tipo_de_dado))}')\n",
        "tipo_de_dado.clear()\n"
      ],
      "execution_count": 2,
      "outputs": [
        {
          "output_type": "stream",
          "text": [
            "Tipo de dado na lista 1: [<class 'float'>]\n",
            "Tipo de dado na lista 2: [<class 'float'>]\n",
            "Tipo de dado na lista 3: [<class 'str'>]\n",
            "Tipo de dado na lista 4: [<class 'str'>]\n"
          ],
          "name": "stdout"
        }
      ]
    },
    {
      "cell_type": "code",
      "metadata": {
        "colab": {
          "base_uri": "https://localhost:8080/"
        },
        "id": "9waPpVQZhwa4",
        "outputId": "992950f0-de92-4940-c5b3-997fc7f1a50f"
      },
      "source": [
        "# realizando o agrupamento:\n",
        "lista_numeros = lista_1 + lista_2\n",
        "lista_strings = lista_3 + lista_4\n",
        "\n",
        "print(f'Lista de números: {lista_numeros}')\n",
        "print(f'Lista de strings: {lista_strings}')\n"
      ],
      "execution_count": 3,
      "outputs": [
        {
          "output_type": "stream",
          "text": [
            "Lista de números: [9.5, 10.0, 8.5, 8.0, 7.5, 4.5, 6.8, 10.0, 8.5, 9.0, 5.5, 8.0, 4.5, 4.5, 8.8, 10.0]\n",
            "Lista de strings: ['Maria', 'Jose', 'Carlos', 'Marcia', 'Joana', 'Leticia', 'Carolina', 'Joana', 'Maria', 'Joao', 'Carlos', 'Cristiano', 'Joana', 'Bruna', 'Carolina', 'Fernando']\n"
          ],
          "name": "stdout"
        }
      ]
    },
    {
      "cell_type": "markdown",
      "metadata": {
        "id": "Dn657m9Oiolr"
      },
      "source": [
        "**2. Para a lista de variáveis numéricas, encontrar os valores min., máx., desvio-padrão, média, quantidade e soma total dos elementos da lista.**"
      ]
    },
    {
      "cell_type": "code",
      "metadata": {
        "colab": {
          "base_uri": "https://localhost:8080/"
        },
        "id": "Io33_XYti3me",
        "outputId": "e1060bb4-9d62-49ef-d862-12a056d63e41"
      },
      "source": [
        "from statistics import mean\n",
        "from statistics import stdev\n",
        "\n",
        "minimo = min(lista_numeros)\n",
        "maximo = max(lista_numeros)\n",
        "desvio = round(stdev(lista_numeros), 2)\n",
        "media = round(mean(lista_numeros), 2)\n",
        "quantidade = len(lista_numeros)\n",
        "total = sum(lista_numeros)\n",
        "print(f'Mínimo: {minimo}\\nMáximo: {maximo}\\nDesvio-padrão: {desvio}\\nMédia: {media}\\nQuantidade de elementos: {quantidade}\\nTotal: {total}')"
      ],
      "execution_count": 6,
      "outputs": [
        {
          "output_type": "stream",
          "text": [
            "Mínimo: 4.5\n",
            "Máximo: 10.0\n",
            "Desvio-padrão: 2.0\n",
            "Média: 7.72\n",
            "Quantidade de elementos: 16\n",
            "Total: 123.6\n"
          ],
          "name": "stdout"
        }
      ]
    },
    {
      "cell_type": "markdown",
      "metadata": {
        "id": "d746yp1ZnCU0"
      },
      "source": [
        "**3. Para a lista de variáveis do tipo string, encontrar a contagem total de elementos, variável mais frequente, iniciais das variáveis e maior variável da lista.**"
      ]
    },
    {
      "cell_type": "code",
      "metadata": {
        "id": "-aqXYvWJnZzv"
      },
      "source": [
        ""
      ],
      "execution_count": null,
      "outputs": []
    }
  ]
}