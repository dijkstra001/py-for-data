{
  "nbformat": 4,
  "nbformat_minor": 0,
  "metadata": {
    "colab": {
      "name": "py-for-data-case05.ipynb",
      "provenance": [],
      "collapsed_sections": [],
      "authorship_tag": "ABX9TyNK2o2bMZVeAyUsDwatIIa8",
      "include_colab_link": true
    },
    "kernelspec": {
      "name": "python3",
      "display_name": "Python 3"
    },
    "language_info": {
      "name": "python"
    }
  },
  "cells": [
    {
      "cell_type": "markdown",
      "metadata": {
        "id": "view-in-github",
        "colab_type": "text"
      },
      "source": [
        "<a href=\"https://colab.research.google.com/github/dijkstra001/py-for-data/blob/main/py_for_data_case05.ipynb\" target=\"_parent\"><img src=\"https://colab.research.google.com/assets/colab-badge.svg\" alt=\"Open In Colab\"/></a>"
      ]
    },
    {
      "cell_type": "markdown",
      "metadata": {
        "id": "yyU01YCozBKq"
      },
      "source": [
        "# **Utilização de Python para Análise de Dados: Caso prático - 05**\n",
        "\n",
        "---\n",
        "\n",
        "O conteúdo apresentado a seguir tem como objetivo criar cenários práticos e de uso geral onde a linguagem Python pode nos auxiliar de forma rápida e simples na análise de dados.\n",
        "\n",
        "Esse material tem como objetivo ensinar algumas práticas para facilitar a análise de dados, não focando em técnicas complexas e de uso exclusivo para determinada situação.\n",
        "\n",
        "O conteúdo tem como base o Livro **Python para Análise de Dados** (Wes McKinney, NOVATEC) e **Data Science do Zero** (Joel Grus, O'Reilly)."
      ]
    },
    {
      "cell_type": "markdown",
      "metadata": {
        "id": "dnEbegQIzS7a"
      },
      "source": [
        "### **Extraíndo dados da internet:**\n",
        "\n"
      ]
    },
    {
      "cell_type": "code",
      "metadata": {
        "id": "ofYlTR2LxCSw"
      },
      "source": [
        "import pandas as pd\n",
        "import numpy as np\n",
        "import re\n",
        "import datetime\n",
        "import locale\n",
        "from bs4 import BeautifulSoup\n",
        "import requests\n",
        "import matplotlib.pyplot as plt\n",
        "import seaborn as sns\n",
        "import warnings\n",
        "warnings.filterwarnings('ignore')\n",
        "\n",
        "%matplotlib inline"
      ],
      "execution_count": 1,
      "outputs": []
    },
    {
      "cell_type": "markdown",
      "metadata": {
        "id": "eUz2rlp61zm4"
      },
      "source": [
        "### **Conjunto de dados:**\n",
        "\n",
        "Vamos utilizar o conjunto de dados disponível no site: https://www.valor.srv.br/indices/inpc.php, onde vamos analisar os INPC ao longo do tempo.\n",
        "\n",
        "Importante destacar que vamos realizar a coleta dos dados através de web scraping e é sempre indispensável analisar o arquivo robots.txt. Nele, vão estar descritos os parâmetros que precisamos respeitar na hora de realizar a busca, além, é claro, se é permitido realizar tal tarefa.\n",
        "\n",
        "No site em questão, até o momento do desenvolvimento desse exemplo, não foi identificado esse arquivo sobre quaisquer restrições.\n",
        "Vamos nos limitar a buscar apenas **1 página** de dados."
      ]
    },
    {
      "cell_type": "code",
      "metadata": {
        "id": "snkO9yWOyvxl"
      },
      "source": [
        "# Realizando a requisição:\n",
        "request = requests.get('https://www.valor.srv.br/indices/inpc.php').text\n",
        "\n",
        "# Transformando em um objeto BeautifulSoup:\n",
        "data = BeautifulSoup(request, 'html.parser')"
      ],
      "execution_count": 2,
      "outputs": []
    },
    {
      "cell_type": "code",
      "metadata": {
        "colab": {
          "base_uri": "https://localhost:8080/"
        },
        "id": "gVf1cmRh0RiN",
        "outputId": "21ded8c6-056e-409c-f987-41f99c23606f"
      },
      "source": [
        "# Analisando as informações no site, os dados de interesse estão dentro de tags <td's>:\n",
        "\n",
        "# Filtrando apenas os dados de INPC:\n",
        "dataset_desnormalizado = data.find_all('td')\n",
        "\n",
        "# Mostrando as 5 primeiras linhas:\n",
        "dataset_desnormalizado[:5]"
      ],
      "execution_count": 3,
      "outputs": [
        {
          "output_type": "execute_result",
          "data": {
            "text/plain": [
              "[<td align=\"center\" alt=\"Maio de 2021\" title=\"Maio de 2021\">\n",
              " \t\t\t\t\t\t\tMai/2021\t\t\t\t\t\t</td>,\n",
              " <td align=\"center\" alt=\"INPC de Maio de 2021: 0,96%\" title=\"INPC de Maio de 2021: 0,96%\">\n",
              " \t\t\t\t\t\t\t0,96\t\t\t\t\t\t</td>,\n",
              " <td align=\"center\" alt=\"INPC acumulada no ano de 2021 (até Maio de 2021): 3,3316%\" title=\"INPC acumulada no ano de 2021 (até Maio de 2021): 3,3316%\">\n",
              " \t\t\t\t\t\t\t3,3316\t\t\t\t\t\t</td>,\n",
              " <td align=\"center\" alt=\"INPC acumulada nos últimos 12 meses: 8,8962%\" title=\"INPC acumulada nos últimos 12 meses: 8,8962%\">\n",
              " \t\t\t\t\t\t\t8,8962\t\t\t\t\t\t</td>,\n",
              " <td align=\"center\" alt=\"Abril de 2021\" title=\"Abril de 2021\">\n",
              " \t\t\t\t\t\t\tAbr/2021\t\t\t\t\t\t</td>]"
            ]
          },
          "metadata": {
            "tags": []
          },
          "execution_count": 3
        }
      ]
    },
    {
      "cell_type": "code",
      "metadata": {
        "id": "ukgyelVk2Tgn"
      },
      "source": [
        "# Realizando a contrução do nosso dataset normalizado:\n",
        "dados = []\n",
        "\n",
        "for i in dataset_desnormalizado[:140]:\n",
        "  dados.append(i.get_text())\n",
        "\n",
        "copia = dados.copy()\n",
        "dados.clear()\n",
        "\n",
        "for i in copia:\n",
        "  i = i.replace('\\n', '')\n",
        "  i = i.replace('\\t', '')\n",
        "  dados.append(i)\n",
        "\n",
        "data = 0\n",
        "perc = 1\n",
        "perc_acum_ano = 2\n",
        "perc_acum_12_meses = 3\n",
        "\n",
        "v_data = []\n",
        "v_ano = []\n",
        "v_perc = []\n",
        "v_perc_acum = []\n",
        "v_perc_12 = []\n",
        "\n",
        "dataset = pd.DataFrame()\n",
        "\n",
        "# adicionado o .strip(\"['']\") para remover os colchetes e transformar os dados em string. Em sequência, convertemos para float.\n",
        "\n",
        "for i in dados:\n",
        "  mes_ano = str(dados[data: data + 1]).lower().strip(\"['']\")\n",
        "  ano = re.sub('[^0-9]', '', str(dados[data: data + 1]).lower().strip(\"['']\"))\n",
        "  percentual = float(str(dados[perc: perc + 1]).strip(\"['']\").replace(',', '.'))\n",
        "  percentual_acumulado = float(str(dados[perc_acum_ano: perc_acum_ano + 1]).strip(\"['']\").replace(',', '.'))\n",
        "  percentual_12_meses = float(str(dados[perc_acum_12_meses: perc_acum_12_meses + 1]).strip(\"['']\").replace(',', '.'))\n",
        "  \n",
        "  v_data.append(mes_ano)\n",
        "  v_ano.append(ano)\n",
        "  v_perc.append(percentual)\n",
        "  v_perc_acum.append(percentual_acumulado)\n",
        "  v_perc_12.append(percentual_12_meses)\n",
        "\n",
        "  data += 4\n",
        "  perc += 4 \n",
        "  perc_acum_ano += 4 \n",
        "  perc_acum_12_meses += 4 \n",
        "\n",
        "  if data + 1 >= len(dados):\n",
        "    break\n",
        "\n",
        "dataset['mes_ano'] = v_data\n",
        "dataset['ano'] = v_ano\n",
        "dataset['percentual'] = v_perc\n",
        "dataset['perc_acum_ano'] = v_perc_acum\n",
        "dataset['perc_acum_12_meses'] = v_perc_12"
      ],
      "execution_count": 4,
      "outputs": []
    },
    {
      "cell_type": "code",
      "metadata": {
        "colab": {
          "base_uri": "https://localhost:8080/",
          "height": 235
        },
        "id": "d87uFpbDkeiX",
        "outputId": "cd3d4585-d44e-4dbf-d734-054c6d41bf6e"
      },
      "source": [
        "dataset.head(6)"
      ],
      "execution_count": 5,
      "outputs": [
        {
          "output_type": "execute_result",
          "data": {
            "text/html": [
              "<div>\n",
              "<style scoped>\n",
              "    .dataframe tbody tr th:only-of-type {\n",
              "        vertical-align: middle;\n",
              "    }\n",
              "\n",
              "    .dataframe tbody tr th {\n",
              "        vertical-align: top;\n",
              "    }\n",
              "\n",
              "    .dataframe thead th {\n",
              "        text-align: right;\n",
              "    }\n",
              "</style>\n",
              "<table border=\"1\" class=\"dataframe\">\n",
              "  <thead>\n",
              "    <tr style=\"text-align: right;\">\n",
              "      <th></th>\n",
              "      <th>mes_ano</th>\n",
              "      <th>ano</th>\n",
              "      <th>percentual</th>\n",
              "      <th>perc_acum_ano</th>\n",
              "      <th>perc_acum_12_meses</th>\n",
              "    </tr>\n",
              "  </thead>\n",
              "  <tbody>\n",
              "    <tr>\n",
              "      <th>0</th>\n",
              "      <td>mai/2021</td>\n",
              "      <td>2021</td>\n",
              "      <td>0.96</td>\n",
              "      <td>3.3316</td>\n",
              "      <td>8.8962</td>\n",
              "    </tr>\n",
              "    <tr>\n",
              "      <th>1</th>\n",
              "      <td>abr/2021</td>\n",
              "      <td>2021</td>\n",
              "      <td>0.38</td>\n",
              "      <td>2.3491</td>\n",
              "      <td>7.5911</td>\n",
              "    </tr>\n",
              "    <tr>\n",
              "      <th>2</th>\n",
              "      <td>mar/2021</td>\n",
              "      <td>2021</td>\n",
              "      <td>0.86</td>\n",
              "      <td>1.9616</td>\n",
              "      <td>6.9373</td>\n",
              "    </tr>\n",
              "    <tr>\n",
              "      <th>3</th>\n",
              "      <td>fev/2021</td>\n",
              "      <td>2021</td>\n",
              "      <td>0.82</td>\n",
              "      <td>1.0922</td>\n",
              "      <td>6.2163</td>\n",
              "    </tr>\n",
              "    <tr>\n",
              "      <th>4</th>\n",
              "      <td>jan/2021</td>\n",
              "      <td>2021</td>\n",
              "      <td>0.27</td>\n",
              "      <td>0.2700</td>\n",
              "      <td>5.5315</td>\n",
              "    </tr>\n",
              "    <tr>\n",
              "      <th>5</th>\n",
              "      <td>dez/2020</td>\n",
              "      <td>2020</td>\n",
              "      <td>1.46</td>\n",
              "      <td>5.4473</td>\n",
              "      <td>5.4473</td>\n",
              "    </tr>\n",
              "  </tbody>\n",
              "</table>\n",
              "</div>"
            ],
            "text/plain": [
              "    mes_ano   ano  percentual  perc_acum_ano  perc_acum_12_meses\n",
              "0  mai/2021  2021        0.96         3.3316              8.8962\n",
              "1  abr/2021  2021        0.38         2.3491              7.5911\n",
              "2  mar/2021  2021        0.86         1.9616              6.9373\n",
              "3  fev/2021  2021        0.82         1.0922              6.2163\n",
              "4  jan/2021  2021        0.27         0.2700              5.5315\n",
              "5  dez/2020  2020        1.46         5.4473              5.4473"
            ]
          },
          "metadata": {
            "tags": []
          },
          "execution_count": 5
        }
      ]
    },
    {
      "cell_type": "markdown",
      "metadata": {
        "id": "upOstxsXJ9qQ"
      },
      "source": [
        "### **Realizando o processo de análise dos dados**:###\n",
        "\n"
      ]
    },
    {
      "cell_type": "code",
      "metadata": {
        "id": "Eo7TJFUfKpOs",
        "colab": {
          "base_uri": "https://localhost:8080/",
          "height": 204
        },
        "outputId": "0de94e2c-8d26-4141-e361-8b49274dccf8"
      },
      "source": [
        "# Calcular o acumulado dos anos:\n",
        "ds_acum = pd.DataFrame()\n",
        "ds_acum[['ano', 'percentual']] = dataset[['ano', 'percentual']]\n",
        "\n",
        "ds_acum['acum'] = ds_acum.groupby(['ano']).cumsum()\n",
        "ds_acum.head()"
      ],
      "execution_count": 6,
      "outputs": [
        {
          "output_type": "execute_result",
          "data": {
            "text/html": [
              "<div>\n",
              "<style scoped>\n",
              "    .dataframe tbody tr th:only-of-type {\n",
              "        vertical-align: middle;\n",
              "    }\n",
              "\n",
              "    .dataframe tbody tr th {\n",
              "        vertical-align: top;\n",
              "    }\n",
              "\n",
              "    .dataframe thead th {\n",
              "        text-align: right;\n",
              "    }\n",
              "</style>\n",
              "<table border=\"1\" class=\"dataframe\">\n",
              "  <thead>\n",
              "    <tr style=\"text-align: right;\">\n",
              "      <th></th>\n",
              "      <th>ano</th>\n",
              "      <th>percentual</th>\n",
              "      <th>acum</th>\n",
              "    </tr>\n",
              "  </thead>\n",
              "  <tbody>\n",
              "    <tr>\n",
              "      <th>0</th>\n",
              "      <td>2021</td>\n",
              "      <td>0.96</td>\n",
              "      <td>0.96</td>\n",
              "    </tr>\n",
              "    <tr>\n",
              "      <th>1</th>\n",
              "      <td>2021</td>\n",
              "      <td>0.38</td>\n",
              "      <td>1.34</td>\n",
              "    </tr>\n",
              "    <tr>\n",
              "      <th>2</th>\n",
              "      <td>2021</td>\n",
              "      <td>0.86</td>\n",
              "      <td>2.20</td>\n",
              "    </tr>\n",
              "    <tr>\n",
              "      <th>3</th>\n",
              "      <td>2021</td>\n",
              "      <td>0.82</td>\n",
              "      <td>3.02</td>\n",
              "    </tr>\n",
              "    <tr>\n",
              "      <th>4</th>\n",
              "      <td>2021</td>\n",
              "      <td>0.27</td>\n",
              "      <td>3.29</td>\n",
              "    </tr>\n",
              "  </tbody>\n",
              "</table>\n",
              "</div>"
            ],
            "text/plain": [
              "    ano  percentual  acum\n",
              "0  2021        0.96  0.96\n",
              "1  2021        0.38  1.34\n",
              "2  2021        0.86  2.20\n",
              "3  2021        0.82  3.02\n",
              "4  2021        0.27  3.29"
            ]
          },
          "metadata": {
            "tags": []
          },
          "execution_count": 6
        }
      ]
    },
    {
      "cell_type": "code",
      "metadata": {
        "colab": {
          "base_uri": "https://localhost:8080/",
          "height": 238
        },
        "id": "ERiEtZN-_Aow",
        "outputId": "ec0dac89-0e84-44cc-b5e9-8da7adaa3466"
      },
      "source": [
        "# Plotar um gráfico com os valores acumulados:\n",
        "sns.set_theme(style=\"whitegrid\")\n",
        "plot = sns.catplot(x=\"ano\", y=\"acum\", estimator=sum, ci=None, data=ds_acum, height=3, aspect=14/3)"
      ],
      "execution_count": 7,
      "outputs": [
        {
          "output_type": "display_data",
          "data": {
            "image/png": "[encoded data removed]",
            "text/plain": [
              "<Figure size 1008x216 with 1 Axes>"
            ]
          },
          "metadata": {
            "tags": []
          }
        }
      ]
    },
    {
      "cell_type": "code",
      "metadata": {
        "colab": {
          "base_uri": "https://localhost:8080/",
          "height": 152
        },
        "id": "1HkoawbsBo8E",
        "outputId": "bd2c7682-c0f8-49d5-f77a-34d0b5248146"
      },
      "source": [
        "# Plotar um gráfico com os valores ao longo dos meses:\n",
        "plot = sns.catplot(x=\"mes_ano\", y=\"percentual\", estimator=sum, ci=None, data=dataset, height=3, aspect=28/3)"
      ],
      "execution_count": 8,
      "outputs": [
        {
          "output_type": "display_data",
          "data": {
            "image/png": "[encoded data removed]",
            "text/plain": [
              "<Figure size 2016x216 with 1 Axes>"
            ]
          },
          "metadata": {
            "tags": []
          }
        }
      ]
    }
  ]
}