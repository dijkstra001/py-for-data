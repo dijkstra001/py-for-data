{
  "nbformat": 4,
  "nbformat_minor": 0,
  "metadata": {
    "colab": {
      "name": "py-for-data-case05.ipynb",
      "provenance": [],
      "collapsed_sections": [],
      "authorship_tag": "ABX9TyPm7HjTSGXs8rx9/bKlvnAL",
      "include_colab_link": true
    },
    "kernelspec": {
      "name": "python3",
      "display_name": "Python 3"
    },
    "language_info": {
      "name": "python"
    }
  },
  "cells": [
    {
      "cell_type": "markdown",
      "metadata": {
        "id": "view-in-github",
        "colab_type": "text"
      },
      "source": [
        "<a href=\"https://colab.research.google.com/github/dijkstra001/py-for-data/blob/main/py_for_data_case05.ipynb\" target=\"_parent\"><img src=\"https://colab.research.google.com/assets/colab-badge.svg\" alt=\"Open In Colab\"/></a>"
      ]
    },
    {
      "cell_type": "markdown",
      "metadata": {
        "id": "yyU01YCozBKq"
      },
      "source": [
        "# **Utilização de Python para Análise de Dados: Caso prático - 05**\n",
        "\n",
        "---\n",
        "\n",
        "O conteúdo apresentado a seguir tem como objetivo criar cenários práticos e de uso geral onde a linguagem Python pode nos auxiliar de forma rápida e simples na análise de dados.\n",
        "\n",
        "Esse material tem como objetivo ensinar algumas práticas para facilitar a análise de dados, não focando em técnicas complexas e de uso exclusivo para determinada situação.\n",
        "\n",
        "O conteúdo tem como base o Livro **Python para Análise de Dados** (Wes McKinney, NOVATEC) e **Data Science do Zero** (Joel Grus, O'Reilly)."
      ]
    },
    {
      "cell_type": "markdown",
      "metadata": {
        "id": "dnEbegQIzS7a"
      },
      "source": [
        "### **Extraíndo dados da internet:**\n",
        "\n"
      ]
    },
    {
      "cell_type": "code",
      "metadata": {
        "id": "ofYlTR2LxCSw"
      },
      "source": [
        "import pandas as pd\n",
        "import numpy as np\n",
        "import re\n",
        "import datetime\n",
        "import locale\n",
        "from bs4 import BeautifulSoup\n",
        "import requests"
      ],
      "execution_count": 1,
      "outputs": []
    },
    {
      "cell_type": "markdown",
      "metadata": {
        "id": "eUz2rlp61zm4"
      },
      "source": [
        "### **Conjunto de dados:**\n",
        "\n",
        "Vamos utilizar o conjunto de dados disponível no site: https://www.valor.srv.br/indices/inpc.php, onde vamos analisar os INPC ao longo do tempo.\n",
        "\n",
        "Importante destacar que vamos realizar a coleta dos dados através de web scraping e é sempre indispensável analisar o arquivo robots.txt. Nele, vão estar descritos os parâmetros que precisamos respeitar na hora de realizar a busca, além, é claro, se é permitido realizar tal tarefa.\n",
        "\n",
        "No site em questão, até o momento do desenvolvimento desse exemplo, não foi identificado esse arquivo sobre quaisquer restrições.\n",
        "Vamos nos limitar a buscar apenas **1 página** de dados."
      ]
    },
    {
      "cell_type": "code",
      "metadata": {
        "id": "snkO9yWOyvxl"
      },
      "source": [
        "# Realizando a requisição:\n",
        "request = requests.get('https://www.valor.srv.br/indices/inpc.php').text\n",
        "\n",
        "# Transformando em um objeto BeautifulSoup:\n",
        "data = BeautifulSoup(request, 'html.parser')"
      ],
      "execution_count": 2,
      "outputs": []
    },
    {
      "cell_type": "code",
      "metadata": {
        "colab": {
          "base_uri": "https://localhost:8080/"
        },
        "id": "gVf1cmRh0RiN",
        "outputId": "ddfff160-4649-4fda-a624-4929d51b8166"
      },
      "source": [
        "# Analisando as informações no site, os dados de interesse estão dentro de tags <td's>:\n",
        "\n",
        "# Filtrando apenas os dados de INPC:\n",
        "dataset_desnormalizado = data.find_all('td')\n",
        "\n",
        "# Mostrando as 5 primeiras linhas:\n",
        "dataset_desnormalizado[:5]"
      ],
      "execution_count": 3,
      "outputs": [
        {
          "output_type": "execute_result",
          "data": {
            "text/plain": [
              "[<td align=\"center\" alt=\"Maio de 2021\" title=\"Maio de 2021\">\n",
              " \t\t\t\t\t\t\tMai/2021\t\t\t\t\t\t</td>,\n",
              " <td align=\"center\" alt=\"INPC de Maio de 2021: 0,96%\" title=\"INPC de Maio de 2021: 0,96%\">\n",
              " \t\t\t\t\t\t\t0,96\t\t\t\t\t\t</td>,\n",
              " <td align=\"center\" alt=\"INPC acumulada no ano de 2021 (até Maio de 2021): 3,3316%\" title=\"INPC acumulada no ano de 2021 (até Maio de 2021): 3,3316%\">\n",
              " \t\t\t\t\t\t\t3,3316\t\t\t\t\t\t</td>,\n",
              " <td align=\"center\" alt=\"INPC acumulada nos últimos 12 meses: 8,8962%\" title=\"INPC acumulada nos últimos 12 meses: 8,8962%\">\n",
              " \t\t\t\t\t\t\t8,8962\t\t\t\t\t\t</td>,\n",
              " <td align=\"center\" alt=\"Abril de 2021\" title=\"Abril de 2021\">\n",
              " \t\t\t\t\t\t\tAbr/2021\t\t\t\t\t\t</td>]"
            ]
          },
          "metadata": {
            "tags": []
          },
          "execution_count": 3
        }
      ]
    },
    {
      "cell_type": "code",
      "metadata": {
        "colab": {
          "base_uri": "https://localhost:8080/"
        },
        "id": "QzcxBM2-TXse",
        "outputId": "a5c0b967-1258-44c4-cc4b-faaf57e7e93a"
      },
      "source": [
        "locale.locale_alias.keys()"
      ],
      "execution_count": 4,
      "outputs": [
        {
          "output_type": "execute_result",
          "data": {
            "text/plain": [
              "dict_keys(['a3', 'a3_az', 'a3_az.koic', 'aa_dj', 'aa_er', 'aa_et', 'af', 'af_za', 'agr_pe', 'ak_gh', 'am', 'am_et', 'american', 'an_es', 'anp_in', 'ar', 'ar_aa', 'ar_ae', 'ar_bh', 'ar_dz', 'ar_eg', 'ar_in', 'ar_iq', 'ar_jo', 'ar_kw', 'ar_lb', 'ar_ly', 'ar_ma', 'ar_om', 'ar_qa', 'ar_sa', 'ar_sd', 'ar_ss', 'ar_sy', 'ar_tn', 'ar_ye', 'arabic', 'as', 'as_in', 'ast_es', 'ayc_pe', 'az', 'az_az', 'az_az.iso88599e', 'az_ir', 'be', 'be@latin', 'be_bg.utf8', 'be_by', 'be_by@latin', 'bem_zm', 'ber_dz', 'ber_ma', 'bg', 'bg_bg', 'bhb_in.utf8', 'bho_in', 'bho_np', 'bi_vu', 'bn_bd', 'bn_in', 'bo_cn', 'bo_in', 'bokmal', 'bokmål', 'br', 'br_fr', 'brx_in', 'bs', 'bs_ba', 'bulgarian', 'byn_er', 'c', 'c-french', 'c.ascii', 'c.en', 'c.iso88591', 'c.utf8', 'c_c', 'c_c.c', 'ca', 'ca_ad', 'ca_es', 'ca_es@valencia', 'ca_fr', 'ca_it', 'catalan', 'ce_ru', 'cextend', 'chinese-s', 'chinese-t', 'chr_us', 'ckb_iq', 'cmn_tw', 'crh_ua', 'croatian', 'cs', 'cs_cs', 'cs_cz', 'csb_pl', 'cv_ru', 'cy', 'cy_gb', 'cz', 'cz_cz', 'czech', 'da', 'da_dk', 'danish', 'dansk', 'de', 'de_at', 'de_be', 'de_ch', 'de_de', 'de_it', 'de_li.utf8', 'de_lu', 'deutsch', 'doi_in', 'dutch', 'dutch.iso88591', 'dv_mv', 'dz_bt', 'ee', 'ee_ee', 'eesti', 'el', 'el_cy', 'el_gr', 'el_gr@euro', 'en', 'en_ag', 'en_au', 'en_be', 'en_bw', 'en_ca', 'en_dk', 'en_dl.utf8', 'en_gb', 'en_hk', 'en_ie', 'en_il', 'en_in', 'en_ng', 'en_nz', 'en_ph', 'en_sc.utf8', 'en_sg', 'en_uk', 'en_us', 'en_us@euro@euro', 'en_za', 'en_zm', 'en_zw', 'en_zw.utf8', 'eng_gb', 'english', 'english.iso88591', 'english_uk', 'english_united-states', 'english_united-states.437', 'english_us', 'eo', 'eo.utf8', 'eo_eo', 'eo_us.utf8', 'eo_xx', 'es', 'es_ar', 'es_bo', 'es_cl', 'es_co', 'es_cr', 'es_cu', 'es_do', 'es_ec', 'es_es', 'es_gt', 'es_hn', 'es_mx', 'es_ni', 'es_pa', 'es_pe', 'es_pr', 'es_py', 'es_sv', 'es_us', 'es_uy', 'es_ve', 'estonian', 'et', 'et_ee', 'eu', 'eu_es', 'eu_fr', 'fa', 'fa_ir', 'fa_ir.isiri3342', 'ff_sn', 'fi', 'fi_fi', 'fil_ph', 'finnish', 'fo', 'fo_fo', 'fr', 'fr_be', 'fr_ca', 'fr_ch', 'fr_fr', 'fr_lu', 'français', 'fre_fr', 'french', 'french.iso88591', 'french_france', 'fur_it', 'fy_de', 'fy_nl', 'ga', 'ga_ie', 'galego', 'galician', 'gd', 'gd_gb', 'ger_de', 'german', 'german.iso88591', 'german_germany', 'gez_er', 'gez_et', 'gl', 'gl_es', 'greek', 'gu_in', 'gv', 'gv_gb', 'ha_ng', 'hak_tw', 'he', 'he_il', 'hebrew', 'hi', 'hi_in', 'hi_in.isciidev', 'hif_fj', 'hne', 'hne_in', 'hr', 'hr_hr', 'hrvatski', 'hsb_de', 'ht_ht', 'hu', 'hu_hu', 'hungarian', 'hy_am', 'hy_am.armscii8', 'ia', 'ia_fr', 'icelandic', 'id', 'id_id', 'ig_ng', 'ik_ca', 'in', 'in_id', 'is', 'is_is', 'iso-8859-1', 'iso-8859-15', 'iso8859-1', 'iso8859-15', 'iso_8859_1', 'iso_8859_15', 'it', 'it_ch', 'it_it', 'italian', 'iu', 'iu_ca', 'iu_ca.nunacom8', 'iw', 'iw_il', 'iw_il.utf8', 'ja', 'ja_jp', 'ja_jp.euc', 'ja_jp.mscode', 'ja_jp.pck', 'japan', 'japanese', 'japanese-euc', 'japanese.euc', 'jp_jp', 'ka', 'ka_ge', 'ka_ge.georgianacademy', 'ka_ge.georgianps', 'ka_ge.georgianrs', 'kab_dz', 'kk_kz', 'kl', 'kl_gl', 'km_kh', 'kn', 'kn_in', 'ko', 'ko_kr', 'ko_kr.euc', 'kok_in', 'korean', 'korean.euc', 'ks', 'ks_in', 'ks_in@devanagari.utf8', 'ku_tr', 'kw', 'kw_gb', 'ky', 'ky_kg', 'lb_lu', 'lg_ug', 'li_be', 'li_nl', 'lij_it', 'lithuanian', 'ln_cd', 'lo', 'lo_la', 'lo_la.cp1133', 'lo_la.ibmcp1133', 'lo_la.mulelao1', 'lt', 'lt_lt', 'lv', 'lv_lv', 'lzh_tw', 'mag_in', 'mai', 'mai_in', 'mai_np', 'mfe_mu', 'mg_mg', 'mhr_ru', 'mi', 'mi_nz', 'miq_ni', 'mjw_in', 'mk', 'mk_mk', 'ml', 'ml_in', 'mn_mn', 'mni_in', 'mr', 'mr_in', 'ms', 'ms_my', 'mt', 'mt_mt', 'my_mm', 'nan_tw', 'nb', 'nb_no', 'nds_de', 'nds_nl', 'ne_np', 'nhn_mx', 'niu_nu', 'niu_nz', 'nl', 'nl_aw', 'nl_be', 'nl_nl', 'nn', 'nn_no', 'no', 'no@nynorsk', 'no_no', 'no_no.iso88591@bokmal', 'no_no.iso88591@nynorsk', 'norwegian', 'nr', 'nr_za', 'nso', 'nso_za', 'ny', 'ny_no', 'nynorsk', 'oc', 'oc_fr', 'om_et', 'om_ke', 'or', 'or_in', 'os_ru', 'pa', 'pa_in', 'pa_pk', 'pap_an', 'pap_aw', 'pap_cw', 'pd', 'pd_de', 'pd_us', 'ph', 'ph_ph', 'pl', 'pl_pl', 'polish', 'portuguese', 'portuguese_brazil', 'posix', 'posix-utf2', 'pp', 'pp_an', 'ps_af', 'pt', 'pt_br', 'pt_pt', 'quz_pe', 'raj_in', 'ro', 'ro_ro', 'romanian', 'ru', 'ru_ru', 'ru_ua', 'rumanian', 'russian', 'rw', 'rw_rw', 'sa_in', 'sat_in', 'sc_it', 'sd', 'sd_in', 'sd_in@devanagari.utf8', 'sd_pk', 'se_no', 'serbocroatian', 'sgs_lt', 'sh', 'sh_ba.iso88592@bosnia', 'sh_hr', 'sh_hr.iso88592', 'sh_sp', 'sh_yu', 'shn_mm', 'shs_ca', 'si', 'si_lk', 'sid_et', 'sinhala', 'sk', 'sk_sk', 'sl', 'sl_cs', 'sl_si', 'slovak', 'slovene', 'slovenian', 'sm_ws', 'so_dj', 'so_et', 'so_ke', 'so_so', 'sp', 'sp_yu', 'spanish', 'spanish_spain', 'sq', 'sq_al', 'sq_mk', 'sr', 'sr@cyrillic', 'sr@latn', 'sr_cs', 'sr_cs.iso88592@latn', 'sr_cs@latn', 'sr_me', 'sr_rs', 'sr_rs@latn', 'sr_sp', 'sr_yu', 'sr_yu.cp1251@cyrillic', 'sr_yu.iso88592', 'sr_yu.iso88595', 'sr_yu.iso88595@cyrillic', 'sr_yu.microsoftcp1251@cyrillic', 'sr_yu.utf8', 'sr_yu.utf8@cyrillic', 'sr_yu@cyrillic', 'ss', 'ss_za', 'st', 'st_za', 'sv', 'sv_fi', 'sv_se', 'sw_ke', 'sw_tz', 'swedish', 'szl_pl', 'ta', 'ta_in', 'ta_in.tscii', 'ta_in.tscii0', 'ta_lk', 'tcy_in.utf8', 'te', 'te_in', 'tg', 'tg_tj', 'th', 'th_th', 'th_th.tactis', 'th_th.tis620', 'thai', 'the_np', 'ti_er', 'ti_et', 'tig_er', 'tk_tm', 'tl', 'tl_ph', 'tn', 'tn_za', 'to_to', 'tpi_pg', 'tr', 'tr_cy', 'tr_tr', 'ts', 'ts_za', 'tt', 'tt_ru', 'tt_ru.tatarcyr', 'tt_ru@iqtelif', 'turkish', 'ug_cn', 'uk', 'uk_ua', 'univ', 'universal', 'universal.utf8@ucs4', 'unm_us', 'ur', 'ur_in', 'ur_pk', 'uz', 'uz_uz', 'uz_uz@cyrillic', 've', 've_za', 'vi', 'vi_vn', 'vi_vn.tcvn', 'vi_vn.tcvn5712', 'vi_vn.viscii', 'vi_vn.viscii111', 'wa', 'wa_be', 'wae_ch', 'wal_et', 'wo_sn', 'xh', 'xh_za', 'yi', 'yi_us', 'yo_ng', 'yue_hk', 'yuw_pg', 'zh', 'zh_cn', 'zh_cn.big5', 'zh_cn.euc', 'zh_hk', 'zh_hk.big5hk', 'zh_sg', 'zh_sg.gbk', 'zh_tw', 'zh_tw.euc', 'zh_tw.euctw', 'zu', 'zu_za'])"
            ]
          },
          "metadata": {
            "tags": []
          },
          "execution_count": 4
        }
      ]
    },
    {
      "cell_type": "code",
      "metadata": {
        "id": "ukgyelVk2Tgn"
      },
      "source": [
        "# Realizando a contrução do nosso dataset normalizado:\n",
        "dados = []\n",
        "\n",
        "for i in dataset_desnormalizado[:140]:\n",
        "  dados.append(i.get_text())\n",
        "\n",
        "copia = dados.copy()\n",
        "dados.clear()\n",
        "\n",
        "for i in copia:\n",
        "  i = i.replace('\\n', '')\n",
        "  i = i.replace('\\t', '')\n",
        "  dados.append(i)\n",
        "\n",
        "dataset = {}\n",
        "indice = 0\n",
        "data = 0\n",
        "perc = 1\n",
        "perc_acum_ano = 2\n",
        "perc_acum_12_meses = 3\n",
        "\n",
        "# adicionado o .strip(\"['']\") para remover os colchetes e transformar os dados em string. Em sequência, convertemos para float.\n",
        "# a data realizamos o processo semelhante, mas convertendo para date com o package datetime.\n",
        "\n",
        "for i in dados:\n",
        "  dataset[indice] = {'data': str(dados[data: data + 1]).lower().strip(\"['']\"), \n",
        "                     'perc': float(str(dados[perc: perc + 1]).strip(\"['']\").replace(',', '.')), \n",
        "                     'perc_acum_ano': float(str(dados[perc_acum_ano: perc_acum_ano + 1]).strip(\"['']\").replace(',', '.')), \n",
        "                     'perc_acum_12_meses': float(str(dados[perc_acum_12_meses: perc_acum_12_meses + 1]).strip(\"['']\").replace(',', '.'))\n",
        "                     }\n",
        "  indice += 1\n",
        "  data += 4\n",
        "  perc += 4 \n",
        "  perc_acum_ano += 4 \n",
        "  perc_acum_12_meses += 4 \n",
        "\n",
        "  if data + 1 >= len(dados):\n",
        "    break"
      ],
      "execution_count": 5,
      "outputs": []
    },
    {
      "cell_type": "code",
      "metadata": {
        "colab": {
          "base_uri": "https://localhost:8080/"
        },
        "id": "d87uFpbDkeiX",
        "outputId": "b635dde2-b263-41d0-a83b-142f71e38486"
      },
      "source": [
        "for k, v in dataset.items():\n",
        "  print(v)\n",
        "\n",
        "  if k > 10:\n",
        "    break"
      ],
      "execution_count": 6,
      "outputs": [
        {
          "output_type": "stream",
          "text": [
            "{'data': 'mai/2021', 'perc': 0.96, 'perc_acum_ano': 3.3316, 'perc_acum_12_meses': 8.8962}\n",
            "{'data': 'abr/2021', 'perc': 0.38, 'perc_acum_ano': 2.3491, 'perc_acum_12_meses': 7.5911}\n",
            "{'data': 'mar/2021', 'perc': 0.86, 'perc_acum_ano': 1.9616, 'perc_acum_12_meses': 6.9373}\n",
            "{'data': 'fev/2021', 'perc': 0.82, 'perc_acum_ano': 1.0922, 'perc_acum_12_meses': 6.2163}\n",
            "{'data': 'jan/2021', 'perc': 0.27, 'perc_acum_ano': 0.27, 'perc_acum_12_meses': 5.5315}\n",
            "{'data': 'dez/2020', 'perc': 1.46, 'perc_acum_ano': 5.4473, 'perc_acum_12_meses': 5.4473}\n",
            "{'data': 'nov/2020', 'perc': 0.95, 'perc_acum_ano': 3.9299, 'perc_acum_12_meses': 5.1979}\n",
            "{'data': 'out/2020', 'perc': 0.89, 'perc_acum_ano': 2.9519, 'perc_acum_12_meses': 4.7706}\n",
            "{'data': 'set/2020', 'perc': 0.87, 'perc_acum_ano': 2.0437, 'perc_acum_12_meses': 3.8879}\n",
            "{'data': 'ago/2020', 'perc': 0.36, 'perc_acum_ano': 1.1636, 'perc_acum_12_meses': 2.9404}\n",
            "{'data': 'jul/2020', 'perc': 0.44, 'perc_acum_ano': 0.8007, 'perc_acum_12_meses': 2.6943}\n",
            "{'data': 'jun/2020', 'perc': 0.3, 'perc_acum_ano': 0.3591, 'perc_acum_12_meses': 2.3466}\n"
          ],
          "name": "stdout"
        }
      ]
    },
    {
      "cell_type": "markdown",
      "metadata": {
        "id": "4tFyfqtjnNnJ"
      },
      "source": [
        "Construído o dataset normalizado, precisamos analisar os dados para que possamos extrair informações relevantes. Podemos perceber já de início que os dados não estão no formato adequado e precisamos tratá-los.\n",
        "\n",
        "Vamos realizar a conversão durante a construção do dataset normalizado, para facilitar o entendimento e unificar o processo de transformação dos dados."
      ]
    },
    {
      "cell_type": "markdown",
      "metadata": {
        "id": "upOstxsXJ9qQ"
      },
      "source": [
        "### **Realizando o processo de análise dos dados**:###\n",
        "\n"
      ]
    },
    {
      "cell_type": "code",
      "metadata": {
        "id": "Eo7TJFUfKpOs"
      },
      "source": [
        ""
      ],
      "execution_count": 6,
      "outputs": []
    }
  ]
}