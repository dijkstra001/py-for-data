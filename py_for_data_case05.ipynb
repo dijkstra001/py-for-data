{
  "nbformat": 4,
  "nbformat_minor": 0,
  "metadata": {
    "colab": {
      "name": "py-for-data-case05.ipynb",
      "provenance": [],
      "collapsed_sections": [],
      "authorship_tag": "ABX9TyPVK4oJceNL0H0Qf6faeCb3",
      "include_colab_link": true
    },
    "kernelspec": {
      "name": "python3",
      "display_name": "Python 3"
    },
    "language_info": {
      "name": "python"
    }
  },
  "cells": [
    {
      "cell_type": "markdown",
      "metadata": {
        "id": "view-in-github",
        "colab_type": "text"
      },
      "source": [
        "<a href=\"https://colab.research.google.com/github/dijkstra001/py-for-data/blob/main/py_for_data_case05.ipynb\" target=\"_parent\"><img src=\"https://colab.research.google.com/assets/colab-badge.svg\" alt=\"Open In Colab\"/></a>"
      ]
    },
    {
      "cell_type": "markdown",
      "metadata": {
        "id": "yyU01YCozBKq"
      },
      "source": [
        "# **Utilização de Python para Análise de Dados: Caso prático - 05**\n",
        "\n",
        "---\n",
        "\n",
        "O conteúdo apresentado a seguir tem como objetivo criar cenários práticos e de uso geral onde a linguagem Python pode nos auxiliar de forma rápida e simples na análise de dados.\n",
        "\n",
        "Esse material tem como objetivo ensinar algumas práticas para facilitar a análise de dados, não focando em técnicas complexas e de uso exclusivo para determinada situação.\n",
        "\n",
        "O conteúdo tem como base o Livro **Python para Análise de Dados** (Wes McKinney, NOVATEC) e **Data Science do Zero** (Joel Grus, O'Reilly)."
      ]
    },
    {
      "cell_type": "markdown",
      "metadata": {
        "id": "dnEbegQIzS7a"
      },
      "source": [
        "### **Extraíndo dados da internet:**\n",
        "\n"
      ]
    },
    {
      "cell_type": "code",
      "metadata": {
        "id": "ofYlTR2LxCSw"
      },
      "source": [
        "import pandas as pd\n",
        "import numpy as np\n",
        "import re\n",
        "from bs4 import BeautifulSoup\n",
        "import requests"
      ],
      "execution_count": 1,
      "outputs": []
    },
    {
      "cell_type": "markdown",
      "metadata": {
        "id": "eUz2rlp61zm4"
      },
      "source": [
        "### **Conjunto de dados:**\n",
        "\n",
        "Vamos utilizar o conjunto de dados disponível no site: https://www.valor.srv.br/indices/inpc.php, onde vamos analisar os INPC ao longo do tempo.\n",
        "\n",
        "Importante destacar que vamos realizar a coleta dos dados através de web scraping e é sempre indispensável analisar o arquivo robots.txt. Nele, vão estar descritos os parâmetros que precisamos respeitar na hora de realizar a busca, além, é claro, se é permitido realizar tal tarefa.\n",
        "\n",
        "No site em questão, até o momento do desenvolvimento desse exemplo, não foi identificado esse arquivo sobre quaisquer restrições.\n",
        "Vamos nos limitar a buscar apenas **1 página** de dados."
      ]
    },
    {
      "cell_type": "code",
      "metadata": {
        "id": "snkO9yWOyvxl"
      },
      "source": [
        "# Realizando a requisição:\n",
        "request = requests.get('https://www.valor.srv.br/indices/inpc.php').text\n",
        "\n",
        "# Transformando em um objeto BeautifulSoup:\n",
        "data = BeautifulSoup(request, 'html.parser')"
      ],
      "execution_count": 2,
      "outputs": []
    },
    {
      "cell_type": "code",
      "metadata": {
        "colab": {
          "base_uri": "https://localhost:8080/"
        },
        "id": "gVf1cmRh0RiN",
        "outputId": "1f69af16-24f0-4e77-f6e6-04cf1b539651"
      },
      "source": [
        "# Analisando as informações no site, os dados de interesse estão dentro de tags <td's>:\n",
        "\n",
        "# Filtrando apenas os dados de INPC:\n",
        "dataset_desnormalizado = data.find_all('td')\n",
        "\n",
        "# Mostrando as 5 primeiras linhas:\n",
        "dataset_desnormalizado[:5]"
      ],
      "execution_count": 3,
      "outputs": [
        {
          "output_type": "execute_result",
          "data": {
            "text/plain": [
              "[<td align=\"center\" alt=\"Maio de 2021\" title=\"Maio de 2021\">\n",
              " \t\t\t\t\t\t\tMai/2021\t\t\t\t\t\t</td>,\n",
              " <td align=\"center\" alt=\"INPC de Maio de 2021: 0,96%\" title=\"INPC de Maio de 2021: 0,96%\">\n",
              " \t\t\t\t\t\t\t0,96\t\t\t\t\t\t</td>,\n",
              " <td align=\"center\" alt=\"INPC acumulada no ano de 2021 (até Maio de 2021): 3,3316%\" title=\"INPC acumulada no ano de 2021 (até Maio de 2021): 3,3316%\">\n",
              " \t\t\t\t\t\t\t3,3316\t\t\t\t\t\t</td>,\n",
              " <td align=\"center\" alt=\"INPC acumulada nos últimos 12 meses: 8,8962%\" title=\"INPC acumulada nos últimos 12 meses: 8,8962%\">\n",
              " \t\t\t\t\t\t\t8,8962\t\t\t\t\t\t</td>,\n",
              " <td align=\"center\" alt=\"Abril de 2021\" title=\"Abril de 2021\">\n",
              " \t\t\t\t\t\t\tAbr/2021\t\t\t\t\t\t</td>]"
            ]
          },
          "metadata": {
            "tags": []
          },
          "execution_count": 3
        }
      ]
    },
    {
      "cell_type": "code",
      "metadata": {
        "id": "ukgyelVk2Tgn"
      },
      "source": [
        "# Realizando a contrução do nosso dataset normalizado:\n",
        "dados = []\n",
        "\n",
        "for i in dataset_desnormalizado[:140]:\n",
        "  dados.append(i.get_text())\n",
        "\n",
        "copia = dados.copy()\n",
        "dados.clear()\n",
        "\n",
        "for i in copia:\n",
        "  i = i.replace('\\n', '')\n",
        "  i = i.replace('\\t', '')\n",
        "  dados.append(i)\n",
        "\n",
        "dataset = {}\n",
        "indice = 0\n",
        "data = 0\n",
        "perc = 1\n",
        "perc_acum_ano = 2\n",
        "perc_acum_12_meses = 3\n",
        "\n",
        "for i in dados:\n",
        "  dataset[indice] = {'data': dados[data: data + 1], \n",
        "                     'perc': dados[perc: perc + 1], \n",
        "                     'perc_acum_ano': dados[perc_acum_ano: perc_acum_ano + 1], \n",
        "                     'perc_acum_12_meses': dados[perc_acum_12_meses: perc_acum_12_meses + 1]\n",
        "                     }\n",
        "  indice += 1\n",
        "  data += 4\n",
        "  perc += 4 \n",
        "  perc_acum_ano += 4 \n",
        "  perc_acum_12_meses += 4 \n",
        "\n",
        "  if data + 1 >= len(dados):\n",
        "    break"
      ],
      "execution_count": 4,
      "outputs": []
    },
    {
      "cell_type": "code",
      "metadata": {
        "colab": {
          "base_uri": "https://localhost:8080/"
        },
        "id": "d87uFpbDkeiX",
        "outputId": "857b0750-bab0-416f-de63-fd382e8278c7"
      },
      "source": [
        "for k, v in dataset.items():\n",
        "  print(v)\n",
        "\n",
        "  if k > 10:\n",
        "    break"
      ],
      "execution_count": 5,
      "outputs": [
        {
          "output_type": "stream",
          "text": [
            "{'data': ['Mai/2021'], 'perc': ['0,96'], 'perc_acum_ano': ['3,3316'], 'perc_acum_12_meses': ['8,8962']}\n",
            "{'data': ['Abr/2021'], 'perc': ['0,38'], 'perc_acum_ano': ['2,3491'], 'perc_acum_12_meses': ['7,5911']}\n",
            "{'data': ['Mar/2021'], 'perc': ['0,86'], 'perc_acum_ano': ['1,9616'], 'perc_acum_12_meses': ['6,9373']}\n",
            "{'data': ['Fev/2021'], 'perc': ['0,82'], 'perc_acum_ano': ['1,0922'], 'perc_acum_12_meses': ['6,2163']}\n",
            "{'data': ['Jan/2021'], 'perc': ['0,27'], 'perc_acum_ano': ['0,2700'], 'perc_acum_12_meses': ['5,5315']}\n",
            "{'data': ['Dez/2020'], 'perc': ['1,46'], 'perc_acum_ano': ['5,4473'], 'perc_acum_12_meses': ['5,4473']}\n",
            "{'data': ['Nov/2020'], 'perc': ['0,95'], 'perc_acum_ano': ['3,9299'], 'perc_acum_12_meses': ['5,1979']}\n",
            "{'data': ['Out/2020'], 'perc': ['0,89'], 'perc_acum_ano': ['2,9519'], 'perc_acum_12_meses': ['4,7706']}\n",
            "{'data': ['Set/2020'], 'perc': ['0,87'], 'perc_acum_ano': ['2,0437'], 'perc_acum_12_meses': ['3,8879']}\n",
            "{'data': ['Ago/2020'], 'perc': ['0,36'], 'perc_acum_ano': ['1,1636'], 'perc_acum_12_meses': ['2,9404']}\n",
            "{'data': ['Jul/2020'], 'perc': ['0,44'], 'perc_acum_ano': ['0,8007'], 'perc_acum_12_meses': ['2,6943']}\n",
            "{'data': ['Jun/2020'], 'perc': ['0,30'], 'perc_acum_ano': ['0,3591'], 'perc_acum_12_meses': ['2,3466']}\n"
          ],
          "name": "stdout"
        }
      ]
    },
    {
      "cell_type": "markdown",
      "metadata": {
        "id": "4tFyfqtjnNnJ"
      },
      "source": [
        "Construído o dataset normalizado, precisamos analisar os dados para que possamos extrair informações relevantes. Podemos perceber já de início que os dados não estão no formato adequado e precisamos tratá-los."
      ]
    },
    {
      "cell_type": "markdown",
      "metadata": {
        "id": "upOstxsXJ9qQ"
      },
      "source": [
        "### **Realizando o processo de análise dos dados**:###\n",
        "\n"
      ]
    }
  ]
}