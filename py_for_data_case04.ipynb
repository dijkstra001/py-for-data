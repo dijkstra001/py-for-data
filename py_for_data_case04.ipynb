{
  "nbformat": 4,
  "nbformat_minor": 0,
  "metadata": {
    "colab": {
      "name": "py-for-data-case04.ipynb",
      "provenance": [],
      "collapsed_sections": [],
      "authorship_tag": "ABX9TyNXlx/mj+IlPcV0YqejRasm",
      "include_colab_link": true
    },
    "kernelspec": {
      "name": "python3",
      "display_name": "Python 3"
    },
    "language_info": {
      "name": "python"
    }
  },
  "cells": [
    {
      "cell_type": "markdown",
      "metadata": {
        "id": "view-in-github",
        "colab_type": "text"
      },
      "source": [
        "<a href=\"https://colab.research.google.com/github/dijkstra001/py-for-data/blob/main/py_for_data_case04.ipynb\" target=\"_parent\"><img src=\"https://colab.research.google.com/assets/colab-badge.svg\" alt=\"Open In Colab\"/></a>"
      ]
    },
    {
      "cell_type": "markdown",
      "metadata": {
        "id": "yyU01YCozBKq"
      },
      "source": [
        "# **Utilização de Python para Análise de Dados: Caso prático - 04**\n",
        "\n",
        "---\n",
        "\n",
        "O conteúdo apresentado a seguir tem como objetivo criar cenários práticos e de uso geral onde a linguagem Python pode nos auxiliar de forma rápida e simples na análise de dados.\n",
        "\n",
        "Esse material tem como objetivo ensinar algumas práticas para facilitar a análise de dados, não focando em técnicas complexas e de uso exclusivo para determinada situação.\n",
        "\n",
        "O conteúdo tem como base o Livro **Python para Análise de Dados** (Wes McKinney, NOVATEC) e **Data Science do Zero** (Joel Grus, O'Reilly)."
      ]
    },
    {
      "cell_type": "markdown",
      "metadata": {
        "id": "dnEbegQIzS7a"
      },
      "source": [
        "### **Realizando operações com as funções map, filter e reduce:**\n",
        "\n",
        "Map, filter e reduce fazem parte dos métodos que compreendem a **Programação funcional**. A programação funcional é aquela que trata os comandos como funções matemáticas, tendo como um dos seus pilares a **imutabilidade**.\n",
        "\n",
        "Isso significa que, passando os mesmos argumentos para esses comandos, os resultados sempre serão os mesmos, evitando, dessa forma, resultados indesejados.\n",
        "\n",
        "De forma resumida, podemos dizer que:\n",
        "\n",
        "**a) MAP**: a função Map realiza o mapeamento de um conjunto de dados, retornando uma lista com os objetos mapeados de acordo com o método informado, sem alterar a lista original.\n",
        "\n",
        "**b) FILTER**: a função Filter retorna uma lista de elementos de acordo com o resultado da expressão informada.\n",
        "\n",
        "**c) REDUCE**: a função Reduce atua como uma função de agregação. Com ela, podemos retornar um único elemento de um conjunto de elementos, de acordo com o método de agregação desejado.\n",
        "\n"
      ]
    },
    {
      "cell_type": "code",
      "metadata": {
        "colab": {
          "base_uri": "https://localhost:8080/"
        },
        "id": "ofYlTR2LxCSw",
        "outputId": "53e89f99-d91d-417e-9f8a-5e2e1958ca86"
      },
      "source": [
        "from statistics import mean\n",
        "import pandas as pd\n",
        "\n",
        "from google.colab import drive\n",
        "drive.mount('/content/drive')\n",
        "path = '/content/drive/MyDrive/py-for-data/datasets/case04_dataset.csv'"
      ],
      "execution_count": 1,
      "outputs": [
        {
          "output_type": "stream",
          "text": [
            "Drive already mounted at /content/drive; to attempt to forcibly remount, call drive.mount(\"/content/drive\", force_remount=True).\n"
          ],
          "name": "stdout"
        }
      ]
    },
    {
      "cell_type": "markdown",
      "metadata": {
        "id": "eUz2rlp61zm4"
      },
      "source": [
        "### **Conjunto de dados:**\n",
        "\n",
        "Nosso conjunto de dados consiste em valores de ações da bolsa de valores NASDAQ, extraídas em 18/06/2021. Como ainda não abordamos extração de dados via web, os valores estarão nesse [arquivo](https://drive.google.com/file/d/1M9Y7SUgCxldQXfg5R73O7owtzRnCqDbR/view?usp=sharing).\n",
        "\n"
      ]
    },
    {
      "cell_type": "markdown",
      "metadata": {
        "id": "upOstxsXJ9qQ"
      },
      "source": [
        "### **Realizando o processo de análise dos dados**:###\n",
        "\n",
        "Antes de iniciarmos as aplicações das funções map, filter e reduce, precisamos conhecer nossos dados e identificar se há necessidade de tratamentos. Após os tratamentos, podemos identificar o que podemos transformar com eles, gerando novos dados a partir daqueles que já temos.\n",
        "\n",
        "\n",
        "**Obs**: Vamos utilizar um novo modelo de conjunto de dados. O formato csv. Ele é muito utilizado na área de ciência de dados e a biblioteca Pandas já tem uma função para trabalhar com esse tipo de informação."
      ]
    },
    {
      "cell_type": "code",
      "metadata": {
        "colab": {
          "base_uri": "https://localhost:8080/",
          "height": 359
        },
        "id": "OSe3T512K02b",
        "outputId": "bf9076f7-209c-4444-c9aa-f4526addba5b"
      },
      "source": [
        "dataset = pd.read_csv(path, header = 0)\n",
        "dataset.head(10)"
      ],
      "execution_count": 2,
      "outputs": [
        {
          "output_type": "execute_result",
          "data": {
            "text/html": [
              "<div>\n",
              "<style scoped>\n",
              "    .dataframe tbody tr th:only-of-type {\n",
              "        vertical-align: middle;\n",
              "    }\n",
              "\n",
              "    .dataframe tbody tr th {\n",
              "        vertical-align: top;\n",
              "    }\n",
              "\n",
              "    .dataframe thead th {\n",
              "        text-align: right;\n",
              "    }\n",
              "</style>\n",
              "<table border=\"1\" class=\"dataframe\">\n",
              "  <thead>\n",
              "    <tr style=\"text-align: right;\">\n",
              "      <th></th>\n",
              "      <th>Nome</th>\n",
              "      <th>Min</th>\n",
              "      <th>Max</th>\n",
              "      <th>Data</th>\n",
              "    </tr>\n",
              "  </thead>\n",
              "  <tbody>\n",
              "    <tr>\n",
              "      <th>0</th>\n",
              "      <td>Activision Blizzard</td>\n",
              "      <td>91,49</td>\n",
              "      <td>93,37</td>\n",
              "      <td>18/06</td>\n",
              "    </tr>\n",
              "    <tr>\n",
              "      <th>1</th>\n",
              "      <td>Adobe</td>\n",
              "      <td>565,59</td>\n",
              "      <td>570</td>\n",
              "      <td>18/06</td>\n",
              "    </tr>\n",
              "    <tr>\n",
              "      <th>2</th>\n",
              "      <td>ADP</td>\n",
              "      <td>192,9</td>\n",
              "      <td>196,18</td>\n",
              "      <td>18/06</td>\n",
              "    </tr>\n",
              "    <tr>\n",
              "      <th>3</th>\n",
              "      <td>Alexion</td>\n",
              "      <td>180,69</td>\n",
              "      <td>181,74</td>\n",
              "      <td>18/06</td>\n",
              "    </tr>\n",
              "    <tr>\n",
              "      <th>4</th>\n",
              "      <td>Align</td>\n",
              "      <td>601,64</td>\n",
              "      <td>617,11</td>\n",
              "      <td>18/06</td>\n",
              "    </tr>\n",
              "    <tr>\n",
              "      <th>5</th>\n",
              "      <td>Alphabet A</td>\n",
              "      <td>2.402,22</td>\n",
              "      <td>2.432,06</td>\n",
              "      <td>18/06</td>\n",
              "    </tr>\n",
              "    <tr>\n",
              "      <th>6</th>\n",
              "      <td>Alphabet C</td>\n",
              "      <td>2.511,35</td>\n",
              "      <td>2.527,78</td>\n",
              "      <td>18/06</td>\n",
              "    </tr>\n",
              "    <tr>\n",
              "      <th>7</th>\n",
              "      <td>Amazon.com</td>\n",
              "      <td>3.486,90</td>\n",
              "      <td>3.507,00</td>\n",
              "      <td>18/06</td>\n",
              "    </tr>\n",
              "    <tr>\n",
              "      <th>8</th>\n",
              "      <td>AMD</td>\n",
              "      <td>84,65</td>\n",
              "      <td>85,77</td>\n",
              "      <td>18/06</td>\n",
              "    </tr>\n",
              "    <tr>\n",
              "      <th>9</th>\n",
              "      <td>American Electric Power</td>\n",
              "      <td>82,35</td>\n",
              "      <td>84,28</td>\n",
              "      <td>18/06</td>\n",
              "    </tr>\n",
              "  </tbody>\n",
              "</table>\n",
              "</div>"
            ],
            "text/plain": [
              "                      Nome       Min       Max   Data\n",
              "0      Activision Blizzard     91,49     93,37  18/06\n",
              "1                    Adobe    565,59       570  18/06\n",
              "2                      ADP     192,9    196,18  18/06\n",
              "3                  Alexion    180,69    181,74  18/06\n",
              "4                    Align    601,64    617,11  18/06\n",
              "5               Alphabet A  2.402,22  2.432,06  18/06\n",
              "6               Alphabet C  2.511,35  2.527,78  18/06\n",
              "7               Amazon.com  3.486,90  3.507,00  18/06\n",
              "8                      AMD     84,65     85,77  18/06\n",
              "9  American Electric Power     82,35     84,28  18/06"
            ]
          },
          "metadata": {
            "tags": []
          },
          "execution_count": 2
        }
      ]
    },
    {
      "cell_type": "code",
      "metadata": {
        "id": "hAJgo5duMtu7"
      },
      "source": [
        "# Criando uma coluna com o valor médio das ações:\n",
        "# Vamos adicionar uma nova coluna (Media) realizando a média entre o valor mínimo e máximo de cada ação:\n",
        "\n",
        "# utilizando a função Map:\n"
      ],
      "execution_count": null,
      "outputs": []
    },
    {
      "cell_type": "markdown",
      "metadata": {
        "id": "ISsCHAUetjxl"
      },
      "source": [
        "**Pronto!** Com mais essa prática, conseguimos aplicar um pouco mais dos conhecimentos de análise de dados em Python. Com o uso de dicionários, conseguimos mapear nossos dados de forma mais simples, além de possibilitar operações com outros tipos de dados (como listas e sets)."
      ]
    }
  ]
}