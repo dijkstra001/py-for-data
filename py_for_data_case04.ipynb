{
  "nbformat": 4,
  "nbformat_minor": 0,
  "metadata": {
    "colab": {
      "name": "py-for-data-case04.ipynb",
      "provenance": [],
      "collapsed_sections": [],
      "authorship_tag": "ABX9TyN8KjOIEhr9RwJTtHMefbX0",
      "include_colab_link": true
    },
    "kernelspec": {
      "name": "python3",
      "display_name": "Python 3"
    },
    "language_info": {
      "name": "python"
    }
  },
  "cells": [
    {
      "cell_type": "markdown",
      "metadata": {
        "id": "view-in-github",
        "colab_type": "text"
      },
      "source": [
        "<a href=\"https://colab.research.google.com/github/dijkstra001/py-for-data/blob/main/py_for_data_case04.ipynb\" target=\"_parent\"><img src=\"https://colab.research.google.com/assets/colab-badge.svg\" alt=\"Open In Colab\"/></a>"
      ]
    },
    {
      "cell_type": "markdown",
      "metadata": {
        "id": "yyU01YCozBKq"
      },
      "source": [
        "# **Utilização de Python para Análise de Dados: Caso prático - 04**\n",
        "\n",
        "---\n",
        "\n",
        "O conteúdo apresentado a seguir tem como objetivo criar cenários práticos e de uso geral onde a linguagem Python pode nos auxiliar de forma rápida e simples na análise de dados.\n",
        "\n",
        "Esse material tem como objetivo ensinar algumas práticas para facilitar a análise de dados, não focando em técnicas complexas e de uso exclusivo para determinada situação.\n",
        "\n",
        "O conteúdo tem como base o Livro **Python para Análise de Dados** (Wes McKinney, NOVATEC) e **Data Science do Zero** (Joel Grus, O'Reilly)."
      ]
    },
    {
      "cell_type": "markdown",
      "metadata": {
        "id": "dnEbegQIzS7a"
      },
      "source": [
        "### **Realizando operações com as funções map, filter e reduce:**\n",
        "\n",
        "Map, filter e reduce fazem parte dos métodos que compreendem a **Programação funcional**. A programação funcional é aquela que trata os comandos como funções matemáticas, tendo como um dos seus pilares a **imutabilidade**.\n",
        "\n",
        "Isso significa que, passando os mesmos argumentos para esses comandos, os resultados sempre serão os mesmos, evitando, dessa forma, resultados indesejados.\n",
        "\n",
        "De forma resumida, podemos dizer que:\n",
        "\n",
        "**a) MAP**: a função Map realiza o mapeamento de um conjunto de dados, retornando uma lista com os objetos mapeados de acordo com o método informado, sem alterar a lista original.\n",
        "\n",
        "**b) FILTER**: a função Filter retorna uma lista de elementos de acordo com o resultado da expressão informada.\n",
        "\n",
        "**c) REDUCE**: a função Reduce atua como uma função de agregação. Com ela, podemos retornar um único elemento de um conjunto de elementos, de acordo com o método de agregação desejado.\n",
        "\n"
      ]
    },
    {
      "cell_type": "code",
      "metadata": {
        "colab": {
          "base_uri": "https://localhost:8080/"
        },
        "id": "ofYlTR2LxCSw",
        "outputId": "ee13470e-202b-498c-9a59-75613c330d3e"
      },
      "source": [
        "from statistics import mean\n",
        "from functools import reduce\n",
        "import operator\n",
        "import pandas as pd\n",
        "import numpy as np\n",
        "\n",
        "from google.colab import drive\n",
        "drive.mount('/content/drive')\n",
        "path = '/content/drive/MyDrive/py-for-data/datasets/case04_dataset.xlsx'"
      ],
      "execution_count": 1,
      "outputs": [
        {
          "output_type": "stream",
          "text": [
            "Drive already mounted at /content/drive; to attempt to forcibly remount, call drive.mount(\"/content/drive\", force_remount=True).\n"
          ],
          "name": "stdout"
        }
      ]
    },
    {
      "cell_type": "markdown",
      "metadata": {
        "id": "eUz2rlp61zm4"
      },
      "source": [
        "### **Conjunto de dados:**\n",
        "\n",
        "Nosso conjunto de dados consiste em valores fictícios de empresas, onde temos o faturamento mínimo, máximo, tempo de empresa em anos e quantidade de colaboradores. Como ainda não abordamos extração de dados via web, os valores estarão nesse [arquivo](https://drive.google.com/file/d/1JPYd20BAjFgDyp4eUVNPyAU8sUxWfj-Y/view?usp=sharing).\n",
        "\n"
      ]
    },
    {
      "cell_type": "markdown",
      "metadata": {
        "id": "upOstxsXJ9qQ"
      },
      "source": [
        "### **Realizando o processo de análise dos dados**:###\n",
        "\n",
        "Antes de iniciarmos as aplicações das funções map, filter e reduce, precisamos conhecer nossos dados e identificar se há necessidade de tratamentos. Após os tratamentos, podemos identificar o que podemos transformar com eles, gerando novos dados a partir daqueles que já temos.\n",
        "\n",
        "\n",
        "**Obs**: Vamos utilizar um novo modelo de conjunto de dados: o formato xlsx."
      ]
    },
    {
      "cell_type": "code",
      "metadata": {
        "colab": {
          "base_uri": "https://localhost:8080/",
          "height": 359
        },
        "id": "OSe3T512K02b",
        "outputId": "c87c4471-fceb-4960-af20-9f77883d0509"
      },
      "source": [
        "dataset = pd.read_excel(path)\n",
        "dataset.head(10)"
      ],
      "execution_count": 2,
      "outputs": [
        {
          "output_type": "execute_result",
          "data": {
            "text/html": [
              "<div>\n",
              "<style scoped>\n",
              "    .dataframe tbody tr th:only-of-type {\n",
              "        vertical-align: middle;\n",
              "    }\n",
              "\n",
              "    .dataframe tbody tr th {\n",
              "        vertical-align: top;\n",
              "    }\n",
              "\n",
              "    .dataframe thead th {\n",
              "        text-align: right;\n",
              "    }\n",
              "</style>\n",
              "<table border=\"1\" class=\"dataframe\">\n",
              "  <thead>\n",
              "    <tr style=\"text-align: right;\">\n",
              "      <th></th>\n",
              "      <th>empresa</th>\n",
              "      <th>fat_min</th>\n",
              "      <th>fat_max</th>\n",
              "      <th>tempo_mercado_em_anos</th>\n",
              "      <th>colaboradores</th>\n",
              "    </tr>\n",
              "  </thead>\n",
              "  <tbody>\n",
              "    <tr>\n",
              "      <th>0</th>\n",
              "      <td>Empresa1</td>\n",
              "      <td>500</td>\n",
              "      <td>2330000</td>\n",
              "      <td>11</td>\n",
              "      <td>327</td>\n",
              "    </tr>\n",
              "    <tr>\n",
              "      <th>1</th>\n",
              "      <td>Empresa2</td>\n",
              "      <td>20500</td>\n",
              "      <td>473717</td>\n",
              "      <td>5</td>\n",
              "      <td>314</td>\n",
              "    </tr>\n",
              "    <tr>\n",
              "      <th>2</th>\n",
              "      <td>Empresa3</td>\n",
              "      <td>35120</td>\n",
              "      <td>409153</td>\n",
              "      <td>11</td>\n",
              "      <td>250</td>\n",
              "    </tr>\n",
              "    <tr>\n",
              "      <th>3</th>\n",
              "      <td>Empresa4</td>\n",
              "      <td>6221</td>\n",
              "      <td>1050000</td>\n",
              "      <td>5</td>\n",
              "      <td>365</td>\n",
              "    </tr>\n",
              "    <tr>\n",
              "      <th>4</th>\n",
              "      <td>Empresa5</td>\n",
              "      <td>3652</td>\n",
              "      <td>101000</td>\n",
              "      <td>5</td>\n",
              "      <td>182</td>\n",
              "    </tr>\n",
              "    <tr>\n",
              "      <th>5</th>\n",
              "      <td>Empresa6</td>\n",
              "      <td>4123</td>\n",
              "      <td>163731</td>\n",
              "      <td>4</td>\n",
              "      <td>202</td>\n",
              "    </tr>\n",
              "    <tr>\n",
              "      <th>6</th>\n",
              "      <td>Empresa7</td>\n",
              "      <td>26422</td>\n",
              "      <td>1060000</td>\n",
              "      <td>2</td>\n",
              "      <td>323</td>\n",
              "    </tr>\n",
              "    <tr>\n",
              "      <th>7</th>\n",
              "      <td>Empresa8</td>\n",
              "      <td>36412</td>\n",
              "      <td>2470000</td>\n",
              "      <td>3</td>\n",
              "      <td>297</td>\n",
              "    </tr>\n",
              "    <tr>\n",
              "      <th>8</th>\n",
              "      <td>Empresa9</td>\n",
              "      <td>2548</td>\n",
              "      <td>729203</td>\n",
              "      <td>3</td>\n",
              "      <td>545</td>\n",
              "    </tr>\n",
              "    <tr>\n",
              "      <th>9</th>\n",
              "      <td>Empresa10</td>\n",
              "      <td>5563</td>\n",
              "      <td>1520000</td>\n",
              "      <td>9</td>\n",
              "      <td>174</td>\n",
              "    </tr>\n",
              "  </tbody>\n",
              "</table>\n",
              "</div>"
            ],
            "text/plain": [
              "     empresa  fat_min  fat_max  tempo_mercado_em_anos  colaboradores\n",
              "0   Empresa1      500  2330000                     11            327\n",
              "1   Empresa2    20500   473717                      5            314\n",
              "2   Empresa3    35120   409153                     11            250\n",
              "3   Empresa4     6221  1050000                      5            365\n",
              "4   Empresa5     3652   101000                      5            182\n",
              "5   Empresa6     4123   163731                      4            202\n",
              "6   Empresa7    26422  1060000                      2            323\n",
              "7   Empresa8    36412  2470000                      3            297\n",
              "8   Empresa9     2548   729203                      3            545\n",
              "9  Empresa10     5563  1520000                      9            174"
            ]
          },
          "metadata": {
            "tags": []
          },
          "execution_count": 2
        }
      ]
    },
    {
      "cell_type": "code",
      "metadata": {
        "colab": {
          "base_uri": "https://localhost:8080/",
          "height": 297
        },
        "id": "79Gr3bT1Kgpu",
        "outputId": "87c7d5a7-f430-449f-bbfa-739d6c745bdb"
      },
      "source": [
        "dataset.describe()"
      ],
      "execution_count": 3,
      "outputs": [
        {
          "output_type": "execute_result",
          "data": {
            "text/html": [
              "<div>\n",
              "<style scoped>\n",
              "    .dataframe tbody tr th:only-of-type {\n",
              "        vertical-align: middle;\n",
              "    }\n",
              "\n",
              "    .dataframe tbody tr th {\n",
              "        vertical-align: top;\n",
              "    }\n",
              "\n",
              "    .dataframe thead th {\n",
              "        text-align: right;\n",
              "    }\n",
              "</style>\n",
              "<table border=\"1\" class=\"dataframe\">\n",
              "  <thead>\n",
              "    <tr style=\"text-align: right;\">\n",
              "      <th></th>\n",
              "      <th>fat_min</th>\n",
              "      <th>fat_max</th>\n",
              "      <th>tempo_mercado_em_anos</th>\n",
              "      <th>colaboradores</th>\n",
              "    </tr>\n",
              "  </thead>\n",
              "  <tbody>\n",
              "    <tr>\n",
              "      <th>count</th>\n",
              "      <td>20.000000</td>\n",
              "      <td>2.000000e+01</td>\n",
              "      <td>20.000000</td>\n",
              "      <td>20.000000</td>\n",
              "    </tr>\n",
              "    <tr>\n",
              "      <th>mean</th>\n",
              "      <td>13735.050000</td>\n",
              "      <td>8.762574e+05</td>\n",
              "      <td>7.350000</td>\n",
              "      <td>312.650000</td>\n",
              "    </tr>\n",
              "    <tr>\n",
              "      <th>std</th>\n",
              "      <td>12539.926234</td>\n",
              "      <td>7.550121e+05</td>\n",
              "      <td>4.158378</td>\n",
              "      <td>169.477611</td>\n",
              "    </tr>\n",
              "    <tr>\n",
              "      <th>min</th>\n",
              "      <td>263.000000</td>\n",
              "      <td>7.116600e+04</td>\n",
              "      <td>2.000000</td>\n",
              "      <td>57.000000</td>\n",
              "    </tr>\n",
              "    <tr>\n",
              "      <th>25%</th>\n",
              "      <td>2560.000000</td>\n",
              "      <td>1.860000e+05</td>\n",
              "      <td>4.000000</td>\n",
              "      <td>180.000000</td>\n",
              "    </tr>\n",
              "    <tr>\n",
              "      <th>50%</th>\n",
              "      <td>6440.000000</td>\n",
              "      <td>6.559685e+05</td>\n",
              "      <td>6.000000</td>\n",
              "      <td>305.500000</td>\n",
              "    </tr>\n",
              "    <tr>\n",
              "      <th>75%</th>\n",
              "      <td>24556.250000</td>\n",
              "      <td>1.280000e+06</td>\n",
              "      <td>11.000000</td>\n",
              "      <td>458.500000</td>\n",
              "    </tr>\n",
              "    <tr>\n",
              "      <th>max</th>\n",
              "      <td>36412.000000</td>\n",
              "      <td>2.470000e+06</td>\n",
              "      <td>15.000000</td>\n",
              "      <td>603.000000</td>\n",
              "    </tr>\n",
              "  </tbody>\n",
              "</table>\n",
              "</div>"
            ],
            "text/plain": [
              "            fat_min       fat_max  tempo_mercado_em_anos  colaboradores\n",
              "count     20.000000  2.000000e+01              20.000000      20.000000\n",
              "mean   13735.050000  8.762574e+05               7.350000     312.650000\n",
              "std    12539.926234  7.550121e+05               4.158378     169.477611\n",
              "min      263.000000  7.116600e+04               2.000000      57.000000\n",
              "25%     2560.000000  1.860000e+05               4.000000     180.000000\n",
              "50%     6440.000000  6.559685e+05               6.000000     305.500000\n",
              "75%    24556.250000  1.280000e+06              11.000000     458.500000\n",
              "max    36412.000000  2.470000e+06              15.000000     603.000000"
            ]
          },
          "metadata": {
            "tags": []
          },
          "execution_count": 3
        }
      ]
    },
    {
      "cell_type": "markdown",
      "metadata": {
        "id": "zHzDyD_Ks86x"
      },
      "source": [
        "### **Criar uma coluna com o valor médio do faturamento:**\n",
        "\n",
        "Para calcular a média utilizando o map, vamos criar uma função anônima que recebe dois parâmetros e retorna a divisão desses parâmetros. Vamos atribuir esse resultado na variável calcular_media, que terá o comportamento de uma função.\n",
        "\n",
        "Vamos passar essa função para o primeiro parâmetro do map e os dois parâmetros da função calcular média: fat_min e fat_max. \n",
        "\n",
        "O retorno da função map é um objeto map. Por isso, vamos convertê-lo em uma lista para que possamos criar a nova coluna no dataset. Por fim, vamos visualizar os registros incluídos."
      ]
    },
    {
      "cell_type": "code",
      "metadata": {
        "colab": {
          "base_uri": "https://localhost:8080/",
          "height": 359
        },
        "id": "fnXA0kKmkrPc",
        "outputId": "4f6e5c42-214f-4f0f-c9e8-e42755a8add1"
      },
      "source": [
        "fat_min = dataset.fat_min\n",
        "fat_max = dataset.fat_max\n",
        "\n",
        "calcular_media = lambda x, y : (x + y) / 2\n",
        "\n",
        "fat_medio = list(map(calcular_media, fat_min , fat_max))\n",
        "dataset['fat_medio'] = fat_medio\n",
        "dataset.head(10)"
      ],
      "execution_count": 4,
      "outputs": [
        {
          "output_type": "execute_result",
          "data": {
            "text/html": [
              "<div>\n",
              "<style scoped>\n",
              "    .dataframe tbody tr th:only-of-type {\n",
              "        vertical-align: middle;\n",
              "    }\n",
              "\n",
              "    .dataframe tbody tr th {\n",
              "        vertical-align: top;\n",
              "    }\n",
              "\n",
              "    .dataframe thead th {\n",
              "        text-align: right;\n",
              "    }\n",
              "</style>\n",
              "<table border=\"1\" class=\"dataframe\">\n",
              "  <thead>\n",
              "    <tr style=\"text-align: right;\">\n",
              "      <th></th>\n",
              "      <th>empresa</th>\n",
              "      <th>fat_min</th>\n",
              "      <th>fat_max</th>\n",
              "      <th>tempo_mercado_em_anos</th>\n",
              "      <th>colaboradores</th>\n",
              "      <th>fat_medio</th>\n",
              "    </tr>\n",
              "  </thead>\n",
              "  <tbody>\n",
              "    <tr>\n",
              "      <th>0</th>\n",
              "      <td>Empresa1</td>\n",
              "      <td>500</td>\n",
              "      <td>2330000</td>\n",
              "      <td>11</td>\n",
              "      <td>327</td>\n",
              "      <td>1165250.0</td>\n",
              "    </tr>\n",
              "    <tr>\n",
              "      <th>1</th>\n",
              "      <td>Empresa2</td>\n",
              "      <td>20500</td>\n",
              "      <td>473717</td>\n",
              "      <td>5</td>\n",
              "      <td>314</td>\n",
              "      <td>247108.5</td>\n",
              "    </tr>\n",
              "    <tr>\n",
              "      <th>2</th>\n",
              "      <td>Empresa3</td>\n",
              "      <td>35120</td>\n",
              "      <td>409153</td>\n",
              "      <td>11</td>\n",
              "      <td>250</td>\n",
              "      <td>222136.5</td>\n",
              "    </tr>\n",
              "    <tr>\n",
              "      <th>3</th>\n",
              "      <td>Empresa4</td>\n",
              "      <td>6221</td>\n",
              "      <td>1050000</td>\n",
              "      <td>5</td>\n",
              "      <td>365</td>\n",
              "      <td>528110.5</td>\n",
              "    </tr>\n",
              "    <tr>\n",
              "      <th>4</th>\n",
              "      <td>Empresa5</td>\n",
              "      <td>3652</td>\n",
              "      <td>101000</td>\n",
              "      <td>5</td>\n",
              "      <td>182</td>\n",
              "      <td>52326.0</td>\n",
              "    </tr>\n",
              "    <tr>\n",
              "      <th>5</th>\n",
              "      <td>Empresa6</td>\n",
              "      <td>4123</td>\n",
              "      <td>163731</td>\n",
              "      <td>4</td>\n",
              "      <td>202</td>\n",
              "      <td>83927.0</td>\n",
              "    </tr>\n",
              "    <tr>\n",
              "      <th>6</th>\n",
              "      <td>Empresa7</td>\n",
              "      <td>26422</td>\n",
              "      <td>1060000</td>\n",
              "      <td>2</td>\n",
              "      <td>323</td>\n",
              "      <td>543211.0</td>\n",
              "    </tr>\n",
              "    <tr>\n",
              "      <th>7</th>\n",
              "      <td>Empresa8</td>\n",
              "      <td>36412</td>\n",
              "      <td>2470000</td>\n",
              "      <td>3</td>\n",
              "      <td>297</td>\n",
              "      <td>1253206.0</td>\n",
              "    </tr>\n",
              "    <tr>\n",
              "      <th>8</th>\n",
              "      <td>Empresa9</td>\n",
              "      <td>2548</td>\n",
              "      <td>729203</td>\n",
              "      <td>3</td>\n",
              "      <td>545</td>\n",
              "      <td>365875.5</td>\n",
              "    </tr>\n",
              "    <tr>\n",
              "      <th>9</th>\n",
              "      <td>Empresa10</td>\n",
              "      <td>5563</td>\n",
              "      <td>1520000</td>\n",
              "      <td>9</td>\n",
              "      <td>174</td>\n",
              "      <td>762781.5</td>\n",
              "    </tr>\n",
              "  </tbody>\n",
              "</table>\n",
              "</div>"
            ],
            "text/plain": [
              "     empresa  fat_min  fat_max  tempo_mercado_em_anos  colaboradores  fat_medio\n",
              "0   Empresa1      500  2330000                     11            327  1165250.0\n",
              "1   Empresa2    20500   473717                      5            314   247108.5\n",
              "2   Empresa3    35120   409153                     11            250   222136.5\n",
              "3   Empresa4     6221  1050000                      5            365   528110.5\n",
              "4   Empresa5     3652   101000                      5            182    52326.0\n",
              "5   Empresa6     4123   163731                      4            202    83927.0\n",
              "6   Empresa7    26422  1060000                      2            323   543211.0\n",
              "7   Empresa8    36412  2470000                      3            297  1253206.0\n",
              "8   Empresa9     2548   729203                      3            545   365875.5\n",
              "9  Empresa10     5563  1520000                      9            174   762781.5"
            ]
          },
          "metadata": {
            "tags": []
          },
          "execution_count": 4
        }
      ]
    },
    {
      "cell_type": "markdown",
      "metadata": {
        "id": "OSAZBhelt9oT"
      },
      "source": [
        "### **Retornar os valores de acordo com o parâmetro informado:**\n",
        "\n",
        "Vamos elaborar uma função onde o usuário possa informar os campos da tabela que precisam ser filtrados, além da ordem do filtro (maior ou igual ou menor que o parâmetro informado). De acordo com os parâmetros informados, os valores retornados precisam ser filtrados de acordo com os parâmetros informados."
      ]
    },
    {
      "cell_type": "code",
      "metadata": {
        "colab": {
          "base_uri": "https://localhost:8080/",
          "height": 421
        },
        "id": "jsxHS3OlufFO",
        "outputId": "8a59a5c6-a2d1-4d64-c7a2-a94e3238a4ba"
      },
      "source": [
        "def filtrar_dataset(dataset, maior_menor:bool, fat_min, fat_max, fat_medio, tempo, colaboradores):\n",
        "  if maior_menor:\n",
        "    return dataset.query(f'fat_min >= {fat_min} & fat_max >= {fat_max} & fat_medio >= {fat_medio} & tempo_mercado_em_anos >= {tempo} & colaboradores >= {colaboradores}')\n",
        "  return dataset.query(f'fat_min <= {fat_min} or fat_max <= {fat_max} or fat_medio <= {fat_medio} or tempo_mercado_em_anos <= {tempo} or colaboradores <= {colaboradores}')\n",
        "filtrar_dataset(dataset, False, 0, 0, 0, 8, 0)"
      ],
      "execution_count": 5,
      "outputs": [
        {
          "output_type": "execute_result",
          "data": {
            "text/html": [
              "<div>\n",
              "<style scoped>\n",
              "    .dataframe tbody tr th:only-of-type {\n",
              "        vertical-align: middle;\n",
              "    }\n",
              "\n",
              "    .dataframe tbody tr th {\n",
              "        vertical-align: top;\n",
              "    }\n",
              "\n",
              "    .dataframe thead th {\n",
              "        text-align: right;\n",
              "    }\n",
              "</style>\n",
              "<table border=\"1\" class=\"dataframe\">\n",
              "  <thead>\n",
              "    <tr style=\"text-align: right;\">\n",
              "      <th></th>\n",
              "      <th>empresa</th>\n",
              "      <th>fat_min</th>\n",
              "      <th>fat_max</th>\n",
              "      <th>tempo_mercado_em_anos</th>\n",
              "      <th>colaboradores</th>\n",
              "      <th>fat_medio</th>\n",
              "    </tr>\n",
              "  </thead>\n",
              "  <tbody>\n",
              "    <tr>\n",
              "      <th>1</th>\n",
              "      <td>Empresa2</td>\n",
              "      <td>20500</td>\n",
              "      <td>473717</td>\n",
              "      <td>5</td>\n",
              "      <td>314</td>\n",
              "      <td>247108.5</td>\n",
              "    </tr>\n",
              "    <tr>\n",
              "      <th>3</th>\n",
              "      <td>Empresa4</td>\n",
              "      <td>6221</td>\n",
              "      <td>1050000</td>\n",
              "      <td>5</td>\n",
              "      <td>365</td>\n",
              "      <td>528110.5</td>\n",
              "    </tr>\n",
              "    <tr>\n",
              "      <th>4</th>\n",
              "      <td>Empresa5</td>\n",
              "      <td>3652</td>\n",
              "      <td>101000</td>\n",
              "      <td>5</td>\n",
              "      <td>182</td>\n",
              "      <td>52326.0</td>\n",
              "    </tr>\n",
              "    <tr>\n",
              "      <th>5</th>\n",
              "      <td>Empresa6</td>\n",
              "      <td>4123</td>\n",
              "      <td>163731</td>\n",
              "      <td>4</td>\n",
              "      <td>202</td>\n",
              "      <td>83927.0</td>\n",
              "    </tr>\n",
              "    <tr>\n",
              "      <th>6</th>\n",
              "      <td>Empresa7</td>\n",
              "      <td>26422</td>\n",
              "      <td>1060000</td>\n",
              "      <td>2</td>\n",
              "      <td>323</td>\n",
              "      <td>543211.0</td>\n",
              "    </tr>\n",
              "    <tr>\n",
              "      <th>7</th>\n",
              "      <td>Empresa8</td>\n",
              "      <td>36412</td>\n",
              "      <td>2470000</td>\n",
              "      <td>3</td>\n",
              "      <td>297</td>\n",
              "      <td>1253206.0</td>\n",
              "    </tr>\n",
              "    <tr>\n",
              "      <th>8</th>\n",
              "      <td>Empresa9</td>\n",
              "      <td>2548</td>\n",
              "      <td>729203</td>\n",
              "      <td>3</td>\n",
              "      <td>545</td>\n",
              "      <td>365875.5</td>\n",
              "    </tr>\n",
              "    <tr>\n",
              "      <th>11</th>\n",
              "      <td>Empresa12</td>\n",
              "      <td>25563</td>\n",
              "      <td>2090000</td>\n",
              "      <td>4</td>\n",
              "      <td>285</td>\n",
              "      <td>1057781.5</td>\n",
              "    </tr>\n",
              "    <tr>\n",
              "      <th>12</th>\n",
              "      <td>Empresa13</td>\n",
              "      <td>2466</td>\n",
              "      <td>1270000</td>\n",
              "      <td>7</td>\n",
              "      <td>136</td>\n",
              "      <td>636233.0</td>\n",
              "    </tr>\n",
              "    <tr>\n",
              "      <th>14</th>\n",
              "      <td>Empresa15</td>\n",
              "      <td>1096</td>\n",
              "      <td>71166</td>\n",
              "      <td>3</td>\n",
              "      <td>469</td>\n",
              "      <td>36131.0</td>\n",
              "    </tr>\n",
              "    <tr>\n",
              "      <th>15</th>\n",
              "      <td>Empresa16</td>\n",
              "      <td>2564</td>\n",
              "      <td>1310000</td>\n",
              "      <td>7</td>\n",
              "      <td>98</td>\n",
              "      <td>656282.0</td>\n",
              "    </tr>\n",
              "    <tr>\n",
              "      <th>19</th>\n",
              "      <td>Empresa20</td>\n",
              "      <td>6659</td>\n",
              "      <td>174000</td>\n",
              "      <td>4</td>\n",
              "      <td>495</td>\n",
              "      <td>90329.5</td>\n",
              "    </tr>\n",
              "  </tbody>\n",
              "</table>\n",
              "</div>"
            ],
            "text/plain": [
              "      empresa  fat_min  ...  colaboradores  fat_medio\n",
              "1    Empresa2    20500  ...            314   247108.5\n",
              "3    Empresa4     6221  ...            365   528110.5\n",
              "4    Empresa5     3652  ...            182    52326.0\n",
              "5    Empresa6     4123  ...            202    83927.0\n",
              "6    Empresa7    26422  ...            323   543211.0\n",
              "7    Empresa8    36412  ...            297  1253206.0\n",
              "8    Empresa9     2548  ...            545   365875.5\n",
              "11  Empresa12    25563  ...            285  1057781.5\n",
              "12  Empresa13     2466  ...            136   636233.0\n",
              "14  Empresa15     1096  ...            469    36131.0\n",
              "15  Empresa16     2564  ...             98   656282.0\n",
              "19  Empresa20     6659  ...            495    90329.5\n",
              "\n",
              "[12 rows x 6 columns]"
            ]
          },
          "metadata": {
            "tags": []
          },
          "execution_count": 5
        }
      ]
    },
    {
      "cell_type": "markdown",
      "metadata": {
        "id": "AZLhpZ-i2To4"
      },
      "source": [
        "### **Aplicando a função filter:**"
      ]
    },
    {
      "cell_type": "code",
      "metadata": {
        "colab": {
          "base_uri": "https://localhost:8080/"
        },
        "id": "ePTFaBSnkN4o",
        "outputId": "1f4f23eb-c107-4f32-e2a8-68d722ede4d0"
      },
      "source": [
        "tempo_mercado_em_anos_filtrado = set(filter(lambda x: x > 3, dataset.tempo_mercado_em_anos.values))\n",
        "print(f'Tempo de mercado (em anos): {sorted(tempo_mercado_em_anos_filtrado)}\\n')\n",
        "\n",
        "def media_geral_colaboradores():\n",
        "  return dataset.colaboradores.values.sum() / len(dataset)\n",
        "\n",
        "colaboradores_filtrado = set(filter(lambda y: y > media_geral_colaboradores(), dataset.colaboradores.values))\n",
        "print(f'Média de colaboradores geral: {round(media_geral_colaboradores())}\\nTotal de colaboradores acima da média de colaboradores geral: {sorted(colaboradores_filtrado)}')"
      ],
      "execution_count": 6,
      "outputs": [
        {
          "output_type": "stream",
          "text": [
            "Tempo de mercado (em anos): [4, 5, 7, 9, 10, 11, 12, 13, 14, 15]\n",
            "\n",
            "Média de colaboradores geral: 313\n",
            "Total de colaboradores acima da média de colaboradores geral: [314, 323, 327, 365, 455, 469, 495, 545, 592, 603]\n"
          ],
          "name": "stdout"
        }
      ]
    },
    {
      "cell_type": "markdown",
      "metadata": {
        "id": "wtIFn3Lho_9P"
      },
      "source": [
        "### **Aplicando a função reduce:**"
      ]
    },
    {
      "cell_type": "code",
      "metadata": {
        "colab": {
          "base_uri": "https://localhost:8080/"
        },
        "id": "d9509eiOpC_-",
        "outputId": "6c94bdac-8105-4cdd-a3ad-c0f310b8c8c6"
      },
      "source": [
        "# operação de soma:\n",
        "total_colaboradores = reduce(operator.add, dataset.colaboradores)\n",
        "print(f'Total colaboradores: {total_colaboradores}')\n",
        "\n",
        "# operação de subtração:\n",
        "diff_faturamento = list(reduce(operator.sub, (dataset.fat_max, dataset.fat_min)))\n",
        "print(f'Diferença faturamento: {sorted(diff_faturamento[0:10])}')\n",
        "\n",
        "# faturamento médio per capita (fat_medio / nº colaboradores):\n",
        "\n",
        "def per_capita(x, y):\n",
        "  return round(x / y, 2)\n",
        "\n",
        "fat_medio_per_capita = list(reduce(per_capita, (dataset.fat_medio, dataset.colaboradores)))\n",
        "print(f'Faturamento médio per capita: {sorted(fat_medio_per_capita[0:10])}')"
      ],
      "execution_count": 7,
      "outputs": [
        {
          "output_type": "stream",
          "text": [
            "Total colaboradores: 6253\n",
            "Diferença faturamento: [97348, 159608, 374033, 453217, 726655, 1033578, 1043779, 1514437, 2329500, 2433588]\n",
            "Faturamento médio per capita: [287.51, 415.48, 671.33, 786.97, 888.55, 1446.88, 1681.77, 3563.46, 4219.55, 4383.8]\n"
          ],
          "name": "stdout"
        }
      ]
    }
  ]
}