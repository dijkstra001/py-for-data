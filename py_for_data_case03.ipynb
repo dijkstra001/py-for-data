{
  "nbformat": 4,
  "nbformat_minor": 0,
  "metadata": {
    "colab": {
      "name": "py-for-data-case03.ipynb",
      "provenance": [],
      "collapsed_sections": [],
      "authorship_tag": "ABX9TyM7sARpXn2KDGLx5CSWyfdF",
      "include_colab_link": true
    },
    "kernelspec": {
      "name": "python3",
      "display_name": "Python 3"
    },
    "language_info": {
      "name": "python"
    }
  },
  "cells": [
    {
      "cell_type": "markdown",
      "metadata": {
        "id": "view-in-github",
        "colab_type": "text"
      },
      "source": [
        "<a href=\"https://colab.research.google.com/github/dijkstra001/py-for-data/blob/main/py_for_data_case03.ipynb\" target=\"_parent\"><img src=\"https://colab.research.google.com/assets/colab-badge.svg\" alt=\"Open In Colab\"/></a>"
      ]
    },
    {
      "cell_type": "markdown",
      "metadata": {
        "id": "yyU01YCozBKq"
      },
      "source": [
        "# **Utilização de Python para Análise de Dados: Caso prático - 03**\n",
        "\n",
        "---\n",
        "\n",
        "O conteúdo apresentado a seguir tem como objetivo criar cenários práticos e de uso geral onde a linguagem Python pode nos auxiliar de forma rápida e simples na análise de dados.\n",
        "\n",
        "Esse material tem como objetivo ensinar algumas práticas para facilitar a análise de dados, não focando em técnicas complexas e de uso exclusivo para determinada situação.\n",
        "\n",
        "O conteúdo tem como base o Livro **Python para Análise de Dados** (Wes McKinney, NOVATEC)."
      ]
    },
    {
      "cell_type": "markdown",
      "metadata": {
        "id": "dnEbegQIzS7a"
      },
      "source": [
        "### **Realizando operações com listas de dados e arquivos de texto (txt):**\n",
        "\n",
        "Continuando nosso tratamento com listas, nesse tópico vamos avançar na análise de dados utilizando um arquivo txt. Esse arquivo pode ser baixado no seu computador local ou utilizado via Google Drive. A forma de leitura e conexão para ambos os casos serão apresentados nesse notebook.\n",
        "\n",
        "Nesse arquivo **(case03_dataset.txt)**, temos dados de estados, país, habitantes e pib (fictício), apenas para podermos trabalhar com algumas funcionalidades novas.\n",
        "\n",
        "Vamos abordar as **list comprehension**, que é uma forma inteligente e elegante de manipulação de dados em Python através de listas, além de realizar tratamentos de dados com arquivos de textos.\n",
        "\n",
        "Nesse arquivo, não foram inseridas informações distorcidas ou fora do padrão, justamente porque nesse caso vamos apenas analisar a forma de trabalhar com esse tipo de dados e introduzir o conceito e prática de list comprehension. Nos próximos casos, vamos aumentar nossa dificuldade de análise, realizando web scraping, junção de dados de diversas fontes, assim como manipular dados fora do padrão.\n"
      ]
    },
    {
      "cell_type": "code",
      "metadata": {
        "colab": {
          "base_uri": "https://localhost:8080/"
        },
        "id": "Y3VHkhquylRM",
        "outputId": "c42a72ad-b73e-4c44-8a31-9b913db340cb"
      },
      "source": [
        "# Para leitura direto no Google Drive, certifique-se de apontar o local do seu arquivo txt\n",
        "from google.colab import drive\n",
        "drive.mount('/content/drive')\n",
        "path = '/content/drive/MyDrive/py-for-data/datasets/case03_dataset.txt'\n",
        "\n",
        "# Para a leitura direto do seu computador, basta passar o path do arquivo na sua máquina. A função permanecerá a mesma.\n",
        "def ler_arquivo(path: str):\n",
        "  arquivo = []\n",
        "\n",
        "  with open(path, 'r') as documento:\n",
        "    for linha in documento:\n",
        "      arquivo.append(linha)\n",
        "  \n",
        "  return arquivo\n",
        "\n",
        "\n",
        "for observacao in ler_arquivo(path):\n",
        "  print(observacao)\n"
      ],
      "execution_count": 4,
      "outputs": [
        {
          "output_type": "stream",
          "text": [
            "Drive already mounted at /content/drive; to attempt to forcibly remount, call drive.mount(\"/content/drive\", force_remount=True).\n",
            "estado;pais;habitantes;pib;\n",
            "\n",
            "Santa Catarina;Brasil;300000;1.5;\n",
            "\n",
            "São Paulo;Brasil;160000;1.5;\n",
            "\n",
            "Bahia;Brasil;890000;1.4;\n",
            "\n",
            "Rio de Janeiro;Brasil;1250000;1.4;\n",
            "\n",
            "Mato Grosso;Brasil;620000;1.5;\n",
            "\n",
            "Alagoas;Brasil;250000;1.1;\n",
            "\n",
            "Paraná;Brasil;500000;1.5;\n",
            "\n"
          ],
          "name": "stdout"
        }
      ]
    },
    {
      "cell_type": "markdown",
      "metadata": {
        "id": "eUz2rlp61zm4"
      },
      "source": [
        "### **Realizando o tratamento dos dados:**"
      ]
    }
  ]
}