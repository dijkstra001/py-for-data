{
  "nbformat": 4,
  "nbformat_minor": 0,
  "metadata": {
    "colab": {
      "name": "py-for-data-case03.ipynb",
      "provenance": [],
      "collapsed_sections": [],
      "authorship_tag": "ABX9TyM0RlDXK3bpZUUcRfYtq/+r",
      "include_colab_link": true
    },
    "kernelspec": {
      "name": "python3",
      "display_name": "Python 3"
    },
    "language_info": {
      "name": "python"
    }
  },
  "cells": [
    {
      "cell_type": "markdown",
      "metadata": {
        "id": "view-in-github",
        "colab_type": "text"
      },
      "source": [
        "<a href=\"https://colab.research.google.com/github/dijkstra001/py-for-data/blob/main/py_for_data_case03.ipynb\" target=\"_parent\"><img src=\"https://colab.research.google.com/assets/colab-badge.svg\" alt=\"Open In Colab\"/></a>"
      ]
    },
    {
      "cell_type": "markdown",
      "metadata": {
        "id": "yyU01YCozBKq"
      },
      "source": [
        "# **Utilização de Python para Análise de Dados: Caso prático - 03**\n",
        "\n",
        "---\n",
        "\n",
        "O conteúdo apresentado a seguir tem como objetivo criar cenários práticos e de uso geral onde a linguagem Python pode nos auxiliar de forma rápida e simples na análise de dados.\n",
        "\n",
        "Esse material tem como objetivo ensinar algumas práticas para facilitar a análise de dados, não focando em técnicas complexas e de uso exclusivo para determinada situação.\n",
        "\n",
        "O conteúdo tem como base o Livro **Python para Análise de Dados** (Wes McKinney, NOVATEC)."
      ]
    },
    {
      "cell_type": "markdown",
      "metadata": {
        "id": "dnEbegQIzS7a"
      },
      "source": [
        "### **Realizando operações com dicionários de dados e arquivos de texto (txt) e utilização de list comprehension:**\n",
        "\n",
        "Continuando nosso tratamento com dados, nesse tópico vamos avançar na análise de dados utilizando um arquivo txt. Esse arquivo pode ser baixado no seu computador local ou utilizado via Google Drive. A forma de leitura e conexão para ambos os casos serão apresentados nesse notebook.\n",
        "\n",
        "No arquivo **(case03_dataset.txt)**, temos dados de estados, país, habitantes e pib (fictício), apenas para podermos trabalhar com algumas funcionalidades novas. **Obs:** não foram inseridas informações distorcidas ou fora do padrão.\n"
      ]
    },
    {
      "cell_type": "code",
      "metadata": {
        "colab": {
          "base_uri": "https://localhost:8080/"
        },
        "id": "ofYlTR2LxCSw",
        "outputId": "07f3f1e7-b7e5-4be8-8a12-04cc49189b9e"
      },
      "source": [
        "from statistics import mean\n",
        "# Para leitura direto no Google Drive, certifique-se de apontar o local do seu arquivo txt\n",
        "from google.colab import drive\n",
        "drive.mount('/content/drive')\n",
        "path = '/content/drive/MyDrive/py-for-data/datasets/case03_dataset.txt'"
      ],
      "execution_count": 1,
      "outputs": [
        {
          "output_type": "stream",
          "text": [
            "Drive already mounted at /content/drive; to attempt to forcibly remount, call drive.mount(\"/content/drive\", force_remount=True).\n"
          ],
          "name": "stdout"
        }
      ]
    },
    {
      "cell_type": "code",
      "metadata": {
        "colab": {
          "base_uri": "https://localhost:8080/"
        },
        "id": "Y3VHkhquylRM",
        "outputId": "a4f35df1-c9c3-4081-e0bd-b5c151e1a880"
      },
      "source": [
        "# Para a leitura direto do seu computador, basta passar o path do arquivo na sua máquina. A função permanecerá a mesma.\n",
        "def ler_arquivo(path: str):\n",
        "  arquivo = []\n",
        "\n",
        "  with open(path, 'r') as documento:\n",
        "    for linha in documento:\n",
        "      arquivo.append(linha)\n",
        "  \n",
        "  return arquivo\n",
        "\n",
        "for observacao in ler_arquivo(path):\n",
        "  print(observacao)"
      ],
      "execution_count": 2,
      "outputs": [
        {
          "output_type": "stream",
          "text": [
            "estado;pais;habitantes;pib;\n",
            "\n",
            "Santa Catarina;Brasil;300000;1.5;\n",
            "\n",
            "São Paulo;Brasil;160000;1.5;\n",
            "\n",
            "Bahia;Brasil;890000;1.4;\n",
            "\n",
            "Rio de Janeiro;Brasil;1250000;1.4;\n",
            "\n",
            "Mato Grosso;Brasil;620000;1.5;\n",
            "\n",
            "Alagoas;Brasil;250000;1.1;\n",
            "\n",
            "Paraná;Brasil;500000;1.5;\n",
            "\n"
          ],
          "name": "stdout"
        }
      ]
    },
    {
      "cell_type": "markdown",
      "metadata": {
        "id": "eUz2rlp61zm4"
      },
      "source": [
        "### **Realizando o tratamento dos dados:**\n",
        "\n",
        "Com base nessas informações, podemos identificar que nossos dados não estão em um modelo adequado. Vamos transformar nosso arquivo txt em um dicionário em Python. Em um dicionário Python temos dois itens: Chave e valor. A chave precisa ser um identificador único, com o objetivo de diferenciar os valores correspondentes a ela. Já os valores podem ser de vários tipos, até mesmo outros dicionários."
      ]
    },
    {
      "cell_type": "code",
      "metadata": {
        "colab": {
          "base_uri": "https://localhost:8080/"
        },
        "id": "k_IOb-0ZurPI",
        "outputId": "cea6d0c4-61d9-4190-868b-b2bc022f8910"
      },
      "source": [
        "def ler_arquivo(path: str):\n",
        "  arquivo = []\n",
        "  linha = 1\n",
        "\n",
        "  with open(path, 'r') as documento:\n",
        "    for linha in documento:\n",
        "      info = linha.split(';')\n",
        "\n",
        "      arquivo.append({'estado': info[0], 'pais': info[1], 'habitantes': info[2],\n",
        "                      'pib': info[3]})\n",
        "  \n",
        "  arquivo.pop(0)\n",
        "  return arquivo\n",
        "\n",
        "dataset = ler_arquivo(path)\n",
        "\n",
        "for observacao in dataset:\n",
        "  print(observacao)"
      ],
      "execution_count": 3,
      "outputs": [
        {
          "output_type": "stream",
          "text": [
            "{'estado': 'Santa Catarina', 'pais': 'Brasil', 'habitantes': '300000', 'pib': '1.5'}\n",
            "{'estado': 'São Paulo', 'pais': 'Brasil', 'habitantes': '160000', 'pib': '1.5'}\n",
            "{'estado': 'Bahia', 'pais': 'Brasil', 'habitantes': '890000', 'pib': '1.4'}\n",
            "{'estado': 'Rio de Janeiro', 'pais': 'Brasil', 'habitantes': '1250000', 'pib': '1.4'}\n",
            "{'estado': 'Mato Grosso', 'pais': 'Brasil', 'habitantes': '620000', 'pib': '1.5'}\n",
            "{'estado': 'Alagoas', 'pais': 'Brasil', 'habitantes': '250000', 'pib': '1.1'}\n",
            "{'estado': 'Paraná', 'pais': 'Brasil', 'habitantes': '500000', 'pib': '1.5'}\n"
          ],
          "name": "stdout"
        }
      ]
    },
    {
      "cell_type": "markdown",
      "metadata": {
        "id": "5pLysGiDzlqf"
      },
      "source": [
        "### **Realizando operações com os dados:**\n",
        "Com os dados organizados, podemos realizar operações de modo mais simples e rápido. Vamos realizar o cálculo:\n",
        "\n",
        "1 - da média do PIB dos estados.\n",
        "\n",
        "2 - total de habitantes e a sua média.\n",
        "\n",
        "3 - quantidade de estados na base de dados."
      ]
    },
    {
      "cell_type": "code",
      "metadata": {
        "colab": {
          "base_uri": "https://localhost:8080/"
        },
        "id": "aOR-FqtB0Ko3",
        "outputId": "a05e688e-6a1b-49bd-9f68-742cf24eeb89"
      },
      "source": [
        "# 1 - média do PIB dos Estados\n",
        "total = 0\n",
        "\n",
        "for observacao in dataset:\n",
        "  total += float(observacao['pib'])\n",
        "\n",
        "print(f'Média: {round(total / len(dataset), 2)}')\n"
      ],
      "execution_count": 4,
      "outputs": [
        {
          "output_type": "stream",
          "text": [
            "Média: 1.41\n"
          ],
          "name": "stdout"
        }
      ]
    },
    {
      "cell_type": "code",
      "metadata": {
        "colab": {
          "base_uri": "https://localhost:8080/"
        },
        "id": "3VvKxb904f8v",
        "outputId": "da2bebd3-c4d3-4afa-87e5-df557ce260c6"
      },
      "source": [
        "# 2 - total de habitantes e sua média\n",
        "total = 0\n",
        "\n",
        "for observacao in dataset:\n",
        "  total += int(observacao['habitantes'])\n",
        "\n",
        "print(f'Total: {total}')\n",
        "print(f'Média: {round(total / len(dataset), 2)}')"
      ],
      "execution_count": 5,
      "outputs": [
        {
          "output_type": "stream",
          "text": [
            "Total: 3970000\n",
            "Média: 567142.86\n"
          ],
          "name": "stdout"
        }
      ]
    },
    {
      "cell_type": "code",
      "metadata": {
        "id": "WIUxTo_b5lO5",
        "colab": {
          "base_uri": "https://localhost:8080/"
        },
        "outputId": "7872e4b3-6952-41be-c416-657d1fb5eaf8"
      },
      "source": [
        "# 3 - quantidade de estados\n",
        "estados = set()\n",
        "\n",
        "for observacao in dataset:\n",
        "  estados.add(observacao['estado'])\n",
        "\n",
        "print(f'Estados: {sorted(estados)}')\n",
        "print(f'Quantidade: {len(estados)}')"
      ],
      "execution_count": 6,
      "outputs": [
        {
          "output_type": "stream",
          "text": [
            "Estados: ['Alagoas', 'Bahia', 'Mato Grosso', 'Paraná', 'Rio de Janeiro', 'Santa Catarina', 'São Paulo']\n",
            "Quantidade: 7\n"
          ],
          "name": "stdout"
        }
      ]
    },
    {
      "cell_type": "markdown",
      "metadata": {
        "id": "ISsCHAUetjxl"
      },
      "source": [
        "**Pronto!** Com mais essa prática, conseguimos aplicar um pouco mais dos conhecimentos de análise de dados em Python. Com o uso de dicionários, conseguimos mapear nossos dados de forma mais simples, além de possibilitar operações com outros tipos de dados (como listas e sets)."
      ]
    }
  ]
}