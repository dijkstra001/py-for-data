{
  "nbformat": 4,
  "nbformat_minor": 0,
  "metadata": {
    "colab": {
      "name": "py-for-data-case01.ipynb",
      "provenance": [],
      "authorship_tag": "ABX9TyPYDVzHW1InnVq2ihqni3v8",
      "include_colab_link": true
    },
    "kernelspec": {
      "name": "python3",
      "display_name": "Python 3"
    },
    "language_info": {
      "name": "python"
    }
  },
  "cells": [
    {
      "cell_type": "markdown",
      "metadata": {
        "id": "view-in-github",
        "colab_type": "text"
      },
      "source": [
        "<a href=\"https://colab.research.google.com/github/dijkstra001/py-for-data/blob/main/py_for_data_case01.ipynb\" target=\"_parent\"><img src=\"https://colab.research.google.com/assets/colab-badge.svg\" alt=\"Open In Colab\"/></a>"
      ]
    },
    {
      "cell_type": "markdown",
      "metadata": {
        "id": "6vTC1E3cef4q"
      },
      "source": [
        "# **Utilização de Python para Análise de Dados: Caso prático - 01**\n",
        "\n",
        "---\n",
        "\n",
        "O conteúdo apresentado a seguir tem como objetivo criar cenários práticos e de uso geral onde a linguagem Python pode nos auxiliar de forma rápida e simples na análise de dados.\n",
        "\n",
        "Esse material tem como objetivo ensinar algumas práticas para facilitar a análise de dados, não focando em técnicas complexas e de uso exclusivo para determinada situação.\n",
        "\n",
        "O conteúdo tem como base o Livro **Python para Análise de Dados** (Wes McKinney, NOVATEC)."
      ]
    },
    {
      "cell_type": "markdown",
      "metadata": {
        "id": "vcg8KRuafp2u"
      },
      "source": [
        "### **Realizando operações com determinados tipos de dados:**\n",
        "\n",
        "Vamos imaginar um cenário onde temos um conjunto de dados em formato de uma lista. Em Python, listas são definidas por [] e correspondem a um array.\n",
        "A nossa lista (vamos nomeá-la de lista_a) tem os seguintes dados: [1, 2, 3, 4, 5, 6.5, '8', '789', 90].\n",
        "\n",
        "Nosso trabalho é realizar a soma, média e encontrar o valor mínimo e máximo dessa lista. Importante destacar que só precisamos realizar essas operações sobre os números inteiros.\n",
        "\n",
        "Para facilitar a compreensão do código, vamos definir os passos a serem realizados nesse trabalho:\n",
        "\n",
        "\n",
        "**Passo 1 - Entender o problema:** Precisamos encontrar as operações de soma, média, mínimo e máximo de números inteiros.\n",
        "\n",
        "**Passo 2 - Pesquisar na documentação da linguagem:** Em Python, essas operações podem ser facilmente resolvidas com as funções sum(), mean(), min() e max().\n",
        "Para saber mais sobre funções e outras características da linguagem, fica a sugestão da leitura da documentação oficial: https://www.python.org/\n",
        "\n",
        "**Passo 3 - Encontrar uma forma de identificar o tipo de dado**: Em python, podemos utilizar o isinstance() para identificar o tipo de dado. Dentro dos parênteses (ou tuplas), passamos os tipos que desejamos identificar.\n",
        "\n",
        "**Passo 4 - Criar uma forma de iterar nossa lista**: Podemos utilizar o loop for para percorrer a lista.\n",
        "\n",
        "**Passo 5 - Imprimimos em tela os resultados encontrados**: Informamos os resultados alcançados.\n",
        "\n",
        "**Bônus**: Criamos uma função para passar o tipo de dado que queremos analisar.\n"
      ]
    },
    {
      "cell_type": "code",
      "metadata": {
        "id": "_VunRt9knJ3C"
      },
      "source": [
        "from statistics import mean"
      ],
      "execution_count": 1,
      "outputs": []
    },
    {
      "cell_type": "code",
      "metadata": {
        "colab": {
          "base_uri": "https://localhost:8080/"
        },
        "id": "wv2P-axCedRo",
        "outputId": "e16ef18e-6216-402e-c452-012879129eb7"
      },
      "source": [
        "lista_a = [1, 2, 3, 4, 5, 6.5, '8', '789', 90]\n",
        "lista_aux = [] # nessa lista vamos guardar os valores do tipo de dado desejado\n",
        "\n",
        "# Aplicando os passos definidos:\n",
        "for numero in lista_a:\n",
        "  if isinstance(numero, int):\n",
        "    lista_aux.append(numero)\n",
        "\n",
        "# Realizando as operações:\n",
        "soma = sum(lista_aux)\n",
        "media = mean(lista_aux)\n",
        "minimo = min(lista_aux)\n",
        "maximo = max(lista_aux)\n",
        "\n",
        "print(f'Soma: {soma}\\nMédia: {media}\\nMínimo: {minimo}\\nMáximo: {maximo}')\n",
        "\n"
      ],
      "execution_count": 2,
      "outputs": [
        {
          "output_type": "stream",
          "text": [
            "Soma: 105\n",
            "Média: 17.5\n",
            "Mínimo: 1\n",
            "Máximo: 90\n"
          ],
          "name": "stdout"
        }
      ]
    },
    {
      "cell_type": "code",
      "metadata": {
        "colab": {
          "base_uri": "https://localhost:8080/"
        },
        "id": "nJRx6cF3nZSZ",
        "outputId": "7b8902e6-544a-4b82-a91a-6458055f747c"
      },
      "source": [
        "# Criando uma função para informar o tipo de dado:\n",
        "# Nessa função, vamos passar um exemplo do tipo de dado que vamos analisar\n",
        "\n",
        "def definir_tipo(*args):\n",
        "  data_type = []\n",
        "  for i in args:\n",
        "    data_type.append(type(i))\n",
        "  \n",
        "  return tuple(data_type) # Precisamos retornar uma tupla pois isinstance recebe um type ou uma tupla de type\n",
        "\n",
        "# Aplicando a função no nosso desafio anterior:\n",
        "\n",
        "lista_a = [1, 2, 3, 4, 5, 6.5, '8', '789', 90]\n",
        "lista_aux = [] # nessa lista vamos guardar os valores do tipo de dado desejado\n",
        "\n",
        "tipos_de_dado = definir_tipo(1)\n",
        "\n",
        "# Aplicando os passos definidos:\n",
        "for numero in lista_a:\n",
        "  if isinstance(numero, tipos_de_dado):\n",
        "    lista_aux.append(numero)\n",
        "\n",
        "# Realizando as operações:\n",
        "soma = sum(lista_aux)\n",
        "media = mean(lista_aux)\n",
        "minimo = min(lista_aux)\n",
        "maximo = max(lista_aux)\n",
        "\n",
        "print(f'Soma: {soma}\\nMédia: {media}\\nMínimo: {minimo}\\nMáximo: {maximo}')"
      ],
      "execution_count": 3,
      "outputs": [
        {
          "output_type": "stream",
          "text": [
            "Soma: 105\n",
            "Média: 17.5\n",
            "Mínimo: 1\n",
            "Máximo: 90\n"
          ],
          "name": "stdout"
        }
      ]
    },
    {
      "cell_type": "markdown",
      "metadata": {
        "id": "5X3i38CXqlMx"
      },
      "source": [
        "**Pronto!** Finalizado nosso primeiro desafio. Como sugestão, podemos adaptar nosso código para tratamento de exceções, além de tentar converter os números do tipo str (string)."
      ]
    }
  ]
}